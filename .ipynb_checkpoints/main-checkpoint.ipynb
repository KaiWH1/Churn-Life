{
 "cells": [
  {
   "cell_type": "code",
   "execution_count": 6,
   "id": "99af8062",
   "metadata": {
    "vscode": {
     "languageId": "plaintext"
    }
   },
   "outputs": [],
   "source": [
    "# Library\n",
    "import pandas as pd\n",
    "import numpy as np \n",
    "import os \n",
    "import statsmodels.api as sm \n",
    "import matplotlib.pyplot as plt \n",
    "import xgboost as xgb \n",
    "import seaborn as sns\n",
    "import plotly.express as px \n",
    "import ipywidgets as widgets\n",
    "import itertools\n",
    "from IPython.display import display, HTML, clear_output\n",
    "from lifelines import KaplanMeierFitter, CoxPHFitter \n",
    "from itertools import combinations, product \n",
    "from interpret import show \n",
    "from interpret.glassbox import ExplainableBoostingClassifier, ExplainableBoostingRegressor \n",
    "from sklearn.model_selection import train_test_split \n",
    "from sklearn.tree import DecisionTreeClassifier, DecisionTreeRegressor, plot_tree \n",
    "from sklearn.metrics import roc_curve, roc_auc_score, accuracy_score, confusion_matrix, classification_report, mean_squared_error, r2_score \n",
    "from sklearn.ensemble import RandomForestClassifier, RandomForestRegressor, GradientBoostingRegressor \n",
    "from sklearn.linear_model import LinearRegression, LogisticRegression, LassoCV, RidgeCV \n",
    "from sklearn.preprocessing import StandardScaler \n",
    "from statsmodels.stats.outliers_influence import variance_inflation_factor \n",
    "\n",
    "plt.rcParams['figure.figsize'] = (12, 6)\n",
    "sns.set(style = 'whitegrid')"
   ]
  },
  {
   "cell_type": "code",
   "execution_count": 2,
   "id": "383135d9",
   "metadata": {
    "vscode": {
     "languageId": "plaintext"
    }
   },
   "outputs": [],
   "source": [
    "# Read Data\n",
    "customer_data  = pd.read_csv(\"customer_info.csv\")\n",
    "engagement_data= pd.read_csv(\"engagement.csv\")\n",
    "labels         = pd.read_csv(\"labels.csv\")\n",
    "policy_data    = pd.read_csv(\"policy_data.csv\")\n",
    "transaction    = pd.read_csv(\"transactions.csv\")\n",
    "\n",
    "# Meger Data\n",
    "dfs = [customer_data, engagement_data, labels, policy_data]\n",
    "merged_df = dfs[0]\n",
    "for df in dfs[1:]:\n",
    "    merged_df = pd.merge(merged_df, df, on='customer_id', how='left')\n",
    "\n",
    "# Time Format\n",
    "merged_df['last_login_date']   = pd.to_datetime(merged_df['last_login_date'], errors='coerce')\n",
    "merged_df['policy_start_date'] = pd.to_datetime(merged_df['policy_start_date'], errors='coerce')\n",
    "merged_df['churn_date']        = pd.to_datetime(merged_df['churn_date'], errors='coerce')\n",
    "\n",
    "# Create Columns\n",
    "merged_df['days_between_policy_last_login'] = (merged_df['last_login_date'] - merged_df['policy_start_date']).dt.days\n",
    "merged_df['days_between_policy_churn']      = (merged_df['churn_date'] - merged_df['policy_start_date']).dt.days\n",
    "\n",
    "def classify_churn_return(row):\n",
    "    if pd.isna(row['days_between_policy_churn']):\n",
    "        return \"Not Returning\"\n",
    "    elif row['days_between_policy_last_login'] > row['days_between_policy_churn']:\n",
    "        return \"Possibly Returning\"\n",
    "    else:\n",
    "        return \"Possibly Churn\"\n",
    "\n",
    "merged_df['churn_behavior'] = merged_df.apply(classify_churn_return, axis=1)\n",
    "\n",
    "# Policy tenure\n",
    "merged_df['policy_tenure'] = (pd.to_datetime('2024-12-31') - merged_df['policy_start_date']).dt.days\n",
    "\n",
    "# Transaction Features\n",
    "transaction['transaction_date'] = pd.to_datetime(transaction['transaction_date'], errors='coerce')\n",
    "premium_tx = transaction[transaction['transaction_type'] == 'Premium'].copy()\n",
    "\n",
    "payment_features = premium_tx.groupby('customer_id').agg(\n",
    "    num_transactions    = ('payment_status', 'count'),\n",
    "    num_failed_payments = ('payment_status', lambda x: (x != \"Success\").sum()),\n",
    "    avg_days_overdue    = ('days_overdue', lambda x: x[x > 0].mean()),\n",
    "    max_days_overdue    = ('days_overdue', 'max'),\n",
    "    sum_success_payment = ('amount', lambda x: x[premium_tx.loc[x.index, 'payment_status'] == 'Success'].sum()),\n",
    ").reset_index().fillna(0)\n",
    "\n",
    "payment_features['failed_payment_rate']  = payment_features['num_failed_payments'] / payment_features['num_transactions']\n",
    "payment_features['has_chronic_overdue'] = (\n",
    "    premium_tx[premium_tx['days_overdue'] > 0]\n",
    "    .groupby('customer_id').size().ge(3).astype(int)\n",
    "    .reindex(payment_features['customer_id']).fillna(0).astype(int).values\n",
    ")\n",
    "\n",
    "merged_df = pd.merge(merged_df, payment_features, on='customer_id', how='left').fillna(0)\n",
    "\n",
    "# Engagement Score\n",
    "def calculate_engagement_score(row):\n",
    "    score = 0\n",
    "    if row['login_frequency_30d'] >= 5: score += 2\n",
    "    elif row['login_frequency_30d'] >= 2: score += 1\n",
    "    if row['mobile_app_user'] == \"Yes\": score += 2\n",
    "    if row['email_opens_6m'] >= .6: score += 2\n",
    "    elif row['email_opens_6m'] >= .3: score += 1\n",
    "    if row['customer_service_calls_12m'] >= 3: score -= 2\n",
    "    elif row['customer_service_calls_12m'] >= 1: score -= 1\n",
    "    if row['complaints_filed'] >= 2: score -= 2\n",
    "    return score\n",
    "\n",
    "merged_df['engagement_score'] = merged_df.apply(calculate_engagement_score, axis=1)\n",
    "\n",
    "# Convert into excecl\n",
    "merged_df.to_excel('merged_data.xlsx', sheet_name='All Data', index=False)\n",
    "merged_df[merged_df['churn_reason'].notna()].to_excel('merged_data.xlsx', sheet_name='Churned Customers', index=False)\n"
   ]
  },
  {
   "cell_type": "code",
   "execution_count": 3,
   "id": "0ee12cd1-24dd-4766-934d-f66c2062f586",
   "metadata": {},
   "outputs": [
    {
     "data": {
      "application/vnd.jupyter.widget-view+json": {
       "model_id": "05dd047c3bd44dbbafc6195f679684b0",
       "version_major": 2,
       "version_minor": 0
      },
      "text/plain": [
       "HTML(value='<h4>Single-Segment Churn Patterns</h4>')"
      ]
     },
     "metadata": {},
     "output_type": "display_data"
    },
    {
     "data": {
      "application/vnd.jupyter.widget-view+json": {
       "model_id": "d4ac34d0ba214fca81dbde8e0a40efac",
       "version_major": 2,
       "version_minor": 0
      },
      "text/plain": [
       "Dropdown(description='Feature:', layout=Layout(width='40%'), options=('age', 'avg_days_overdue', 'complaints_f…"
      ]
     },
     "metadata": {},
     "output_type": "display_data"
    },
    {
     "data": {
      "application/vnd.jupyter.widget-view+json": {
       "model_id": "a167f4547cd6425fb5eaba3b92ed30eb",
       "version_major": 2,
       "version_minor": 0
      },
      "text/plain": [
       "Output(layout=Layout(border_bottom='1px solid #ddd', border_left='1px solid #ddd', border_right='1px solid #dd…"
      ]
     },
     "metadata": {},
     "output_type": "display_data"
    },
    {
     "data": {
      "application/vnd.jupyter.widget-view+json": {
       "model_id": "20fd97c168f0448284b09ca9bac3c7a9",
       "version_major": 2,
       "version_minor": 0
      },
      "text/plain": [
       "HTML(value='<h4>Cross-Segment Churn</h4>')"
      ]
     },
     "metadata": {},
     "output_type": "display_data"
    },
    {
     "data": {
      "application/vnd.jupyter.widget-view+json": {
       "model_id": "e925f0c4d75d4e7593776f37dcb34ff0",
       "version_major": 2,
       "version_minor": 0
      },
      "text/plain": [
       "HBox(children=(IntSlider(value=500, description='Min samples/segment:', layout=Layout(width='48%'), max=2000, …"
      ]
     },
     "metadata": {},
     "output_type": "display_data"
    },
    {
     "data": {
      "application/vnd.jupyter.widget-view+json": {
       "model_id": "f8b6ab0bfb794152adf7530263a238c5",
       "version_major": 2,
       "version_minor": 0
      },
      "text/plain": [
       "Output(layout=Layout(border_bottom='1px solid #ddd', border_left='1px solid #ddd', border_right='1px solid #dd…"
      ]
     },
     "metadata": {},
     "output_type": "display_data"
    },
    {
     "data": {
      "application/vnd.jupyter.widget-view+json": {
       "model_id": "6a8414dda8d349f5b802381905905a6d",
       "version_major": 2,
       "version_minor": 0
      },
      "text/plain": [
       "HTML(value='<h4>Churn Reason Profile</h4>')"
      ]
     },
     "metadata": {},
     "output_type": "display_data"
    },
    {
     "data": {
      "application/vnd.jupyter.widget-view+json": {
       "model_id": "e6d536bf44c743958f96c1140af0f2f4",
       "version_major": 2,
       "version_minor": 0
      },
      "text/plain": [
       "Dropdown(description='Churn reason:', layout=Layout(width='50%'), options=('0', 'Competition', 'Financial', 'L…"
      ]
     },
     "metadata": {},
     "output_type": "display_data"
    },
    {
     "data": {
      "application/vnd.jupyter.widget-view+json": {
       "model_id": "abfd9876556a41dd9f50d4a1e9276af1",
       "version_major": 2,
       "version_minor": 0
      },
      "text/plain": [
       "Output(layout=Layout(border_bottom='1px solid #ddd', border_left='1px solid #ddd', border_right='1px solid #dd…"
      ]
     },
     "metadata": {},
     "output_type": "display_data"
    }
   ],
   "source": [
    "# --- required imports for this cell ---\n",
    "import pandas as pd\n",
    "import numpy as np\n",
    "import itertools\n",
    "import matplotlib.pyplot as plt\n",
    "import ipywidgets as widgets\n",
    "from IPython.display import display, clear_output\n",
    "\n",
    "# (optional) wider DF display in notebook\n",
    "pd.set_option('display.max_rows', 200)\n",
    "pd.set_option('display.max_columns', None)\n",
    "pd.set_option('display.width', 0)\n",
    "\n",
    "# ---------- SOURCE DATA ----------\n",
    "df = merged_df.copy()  # assumes you already built merged_df\n",
    "\n",
    "# Columns to exclude from segmentation\n",
    "drop_cols = [\n",
    "    'churned','churn_date','churn_reason','last_login_date','policy_start_date',\n",
    "    'customer_id','churn_behavior','transaction_date','transaction_type',\n",
    "    'amount','payment_status','days_overdue'\n",
    "]\n",
    "churn_vars = [c for c in df.columns if c not in drop_cols]\n",
    "\n",
    "# ---------- Single Segment ----------\n",
    "pattern_dfs = {}\n",
    "for col in churn_vars:\n",
    "    try:\n",
    "        if df[col].dtype in ['object','bool'] or df[col].dtype.name == 'category':\n",
    "            g = df.groupby(col)['churned'].mean().reset_index()\n",
    "            g.columns = ['value','churn_rate']\n",
    "        else:\n",
    "            # numeric-ish branch\n",
    "            binned, bins = pd.qcut(df[col], q=5, retbins=True, duplicates='drop')\n",
    "            binned = pd.cut(df[col], bins=bins, include_lowest=True)\n",
    "            g = df.groupby(binned, observed=False)['churned'].mean().reset_index()\n",
    "            g.columns = ['value','churn_rate']\n",
    "        pattern_dfs[col] = g\n",
    "    except Exception:\n",
    "        continue\n",
    "\n",
    "feat_dd = widgets.Dropdown(\n",
    "    options=sorted(pattern_dfs.keys()),\n",
    "    description='Feature:',\n",
    "    style={'description_width':'initial'},\n",
    "    layout=widgets.Layout(width='40%')\n",
    ")\n",
    "\n",
    "# BIGGER, SCROLLABLE, BORDERED output box\n",
    "out_tbl = widgets.Output(\n",
    "    layout=widgets.Layout(\n",
    "        width='100%',\n",
    "        height='450px',\n",
    "        overflow='auto',\n",
    "        border='1px solid #ddd',\n",
    "        padding='10px',\n",
    "        margin='6px 0'\n",
    "    )\n",
    ")\n",
    "\n",
    "display(widgets.HTML(\"<h4>Single-Segment Churn Patterns</h4>\"), feat_dd, out_tbl)\n",
    "\n",
    "def on_change(change):\n",
    "    if change['name']=='value' and change['new'] is not None:\n",
    "        with out_tbl:\n",
    "            clear_output(wait=True)\n",
    "            g = pattern_dfs[change['new']].copy()\n",
    "            g['value'] = g['value'].astype(str)\n",
    "            display(g)\n",
    "            plt.figure(figsize=(10,4))\n",
    "            plt.bar(g['value'], g['churn_rate'])\n",
    "            plt.xticks(rotation=45, ha='right')\n",
    "            plt.ylabel('Churn Rate')\n",
    "            plt.title(f'Churn Rate by {change[\"new\"]}')\n",
    "            plt.tight_layout()\n",
    "            plt.show()\n",
    "\n",
    "feat_dd.observe(on_change, names='value')\n",
    "if feat_dd.options:\n",
    "    feat_dd.value = feat_dd.options[0]\n",
    "\n",
    "# ---------- Cross Segment ----------\n",
    "min_sample = widgets.IntSlider(\n",
    "    value=500, min=100, max=2000, step=50,\n",
    "    description='Min samples/segment:', layout=widgets.Layout(width='48%')\n",
    ")\n",
    "max_combo = widgets.IntSlider(\n",
    "    value=3, min=1, max=4, step=1,\n",
    "    description='Max combo size:', layout=widgets.Layout(width='40%')\n",
    ")\n",
    "run_btn = widgets.Button(\n",
    "    description='Run',\n",
    "    button_style='primary',\n",
    "    layout=widgets.Layout(width='10%')\n",
    ")\n",
    "\n",
    "cross_out = widgets.Output(\n",
    "    layout=widgets.Layout(\n",
    "        width='100%',\n",
    "        height='520px',\n",
    "        overflow='auto',\n",
    "        border='1px solid #ddd',\n",
    "        padding='10px',\n",
    "        margin='6px 0'\n",
    "    )\n",
    ")\n",
    "display(widgets.HTML(\"<h4>Cross-Segment Churn</h4>\"), widgets.HBox([min_sample, max_combo, run_btn]), cross_out)\n",
    "\n",
    "def run_cross_segments(_):\n",
    "    with cross_out:\n",
    "        clear_output(wait=True)\n",
    "        results = []\n",
    "        for r in range(1, min(max_combo.value, len(churn_vars)) + 1):\n",
    "            for combo in itertools.combinations(churn_vars, r):\n",
    "                try:\n",
    "                    g = (\n",
    "                        df.groupby(list(combo))\n",
    "                          .agg(count=('churned','count'), churn_rate=('churned','mean'))\n",
    "                          .reset_index()\n",
    "                    )\n",
    "                    g = g[g['count'] > min_sample.value]\n",
    "                    if not g.empty:\n",
    "                        g['variables'] = ', '.join(combo)\n",
    "                        results.append(g)\n",
    "                except Exception:\n",
    "                    continue\n",
    "\n",
    "        if not results:\n",
    "            print(\"No high-churn cross segments found.\")\n",
    "            return\n",
    "\n",
    "        cross_df = pd.concat(results, ignore_index=True)\n",
    "        value_cols = [c for c in cross_df.columns if c not in ['count','churn_rate','variables']]\n",
    "        cross_df['segment_values'] = cross_df.apply(\n",
    "            lambda row: \" | \".join(f\"{c}:{row[c]}\" for c in value_cols if pd.notna(row[c])),\n",
    "            axis=1\n",
    "        )\n",
    "\n",
    "        display_df = cross_df[['variables','segment_values','count','churn_rate']].copy()\n",
    "        top_display_df = display_df.sort_values('churn_rate', ascending=False).head(30)\n",
    "\n",
    "        print(f\"Top {len(top_display_df)} High-Churn Cross Segments (min samples = {min_sample.value})\")\n",
    "        display(top_display_df)\n",
    "\n",
    "        plt.figure(figsize=(10, min(12, 0.45*len(top_display_df))))\n",
    "        plt.barh(range(len(top_display_df)), top_display_df['churn_rate'])\n",
    "        plt.yticks(range(len(top_display_df)), top_display_df['segment_values'])\n",
    "        plt.gca().invert_yaxis()\n",
    "        plt.xlabel('Churn rate')\n",
    "        plt.title('Top High-Churn Cross Segments')\n",
    "        plt.tight_layout()\n",
    "        plt.show()\n",
    "\n",
    "run_btn.on_click(run_cross_segments)\n",
    "run_cross_segments(None)  # auto-run once\n",
    "\n",
    "# ---------- Churn Reason Profile ----------\n",
    "title_reason = widgets.HTML(\"<h4>Churn Reason Profile</h4>\")\n",
    "reason_out = widgets.Output(\n",
    "    layout=widgets.Layout(\n",
    "        width='100%',\n",
    "        height='600px',\n",
    "        overflow='auto',\n",
    "        border='1px solid #ddd',\n",
    "        padding='10px',\n",
    "        margin='6px 0'\n",
    "    )\n",
    ")\n",
    "\n",
    "if 'churn_reason' not in df.columns:\n",
    "    display(title_reason)\n",
    "    print(\"Column 'churn_reason' not found in data.\")\n",
    "else:\n",
    "    # Cast to string to avoid mixed-type sort errors\n",
    "    reasons = sorted(df['churn_reason'].dropna().astype(str).unique().tolist())\n",
    "\n",
    "    reason_dd = widgets.Dropdown(\n",
    "        options=reasons,\n",
    "        description='Churn reason:',\n",
    "        style={'description_width':'initial'},\n",
    "        layout=widgets.Layout(width='50%')\n",
    "    )\n",
    "    display(title_reason, reason_dd, reason_out)\n",
    "\n",
    "    exclude_cols = {\n",
    "        'customer_id','churned','churn_date','policy_start_date','last_login_date',\n",
    "        'transaction_date','transaction_type','amount','payment_status','days_overdue',\n",
    "        'policy_amount','premium_amount','days_between_policy_churn'\n",
    "    }\n",
    "\n",
    "    def render_reason_table(_=None):\n",
    "        with reason_out:\n",
    "            clear_output(wait=True)\n",
    "            sel = reason_dd.value\n",
    "            if sel is None:\n",
    "                print(\"Select a churn reason.\")\n",
    "                return\n",
    "\n",
    "            # Compare against string-cast column to match dropdown\n",
    "            cr_str = df['churn_reason'].astype(str)\n",
    "            reason_df = df[cr_str == sel]\n",
    "            all_churned_df = df[df['churned'] == 1]\n",
    "\n",
    "            profile_rows = []\n",
    "            cand_cols = [c for c in df.columns if c not in exclude_cols]\n",
    "            for col in cand_cols:\n",
    "                try:\n",
    "                    if df[col].dtype in ['object','bool'] or df[col].dtype.name == 'category':\n",
    "                        vals = df[col].dropna().unique()\n",
    "                        for v in vals:\n",
    "                            p1 = (reason_df[col] == v).mean() if len(reason_df) else 0.0\n",
    "                            p2 = (all_churned_df[col] == v).mean() if len(all_churned_df) else 0.0\n",
    "                            diff = p1 - p2\n",
    "                            profile_rows.append({\n",
    "                                \"Feature\": f\"{col} = {v}\",\n",
    "                                \"Reason %\": p1,\n",
    "                                \"All churned %\": p2,\n",
    "                                \"Difference\": diff\n",
    "                            })\n",
    "                except Exception:\n",
    "                    continue\n",
    "\n",
    "            if not profile_rows:\n",
    "                print(\"No categorical features to profile.\")\n",
    "                return\n",
    "\n",
    "            profile_df = pd.DataFrame(profile_rows).sort_values(\"Difference\", ascending=False)\n",
    "            show_df = profile_df.copy()\n",
    "            for c in [\"Reason %\",\"All churned %\",\"Difference\"]:\n",
    "                show_df[c] = (show_df[c]*100).round(1).astype(str) + \"%\"\n",
    "\n",
    "            print(f\"Churn Reason Profile — {sel}\")\n",
    "            display(show_df.head(30))\n",
    "\n",
    "            topN = 15\n",
    "            top_plot = profile_df.head(topN)\n",
    "            plt.figure(figsize=(10, 0.45*len(top_plot)+1))\n",
    "            plt.barh(range(len(top_plot)), top_plot[\"Difference\"])\n",
    "            plt.yticks(range(len(top_plot)), top_plot[\"Feature\"])\n",
    "            plt.gca().invert_yaxis()\n",
    "            plt.xlabel(\"Difference vs. all-churned (percentage points)\")\n",
    "            plt.title(f\"Top {topN} features tilted toward '{sel}' reason\")\n",
    "            plt.tight_layout()\n",
    "            plt.show()\n",
    "\n",
    "    reason_dd.observe(render_reason_table, names='value')\n",
    "    if reason_dd.options:\n",
    "        reason_dd.value = reason_dd.options[0]  # trigger initial render"
   ]
  },
  {
   "cell_type": "code",
   "execution_count": 5,
   "id": "5a6f4546",
   "metadata": {
    "vscode": {
     "languageId": "plaintext"
    }
   },
   "outputs": [
    {
     "data": {
      "application/vnd.jupyter.widget-view+json": {
       "model_id": "b70a2610b10141278f20d215dc63fe5e",
       "version_major": 2,
       "version_minor": 0
      },
      "text/plain": [
       "Output(layout=Layout(border_bottom='1px solid #ddd', border_left='1px solid #ddd', border_right='1px solid #dd…"
      ]
     },
     "metadata": {},
     "output_type": "display_data"
    }
   ],
   "source": [
    "# Bordered/scrollable output box (optional)\n",
    "mod_out = widgets.Output(\n",
    "    layout=widgets.Layout(\n",
    "        width='100%',\n",
    "        height='650px',\n",
    "        overflow='auto',\n",
    "        border='1px solid #ddd',\n",
    "        padding='12px',\n",
    "        margin='8px 0'\n",
    "    )\n",
    ")\n",
    "display(mod_out)\n",
    "\n",
    "def render_modeling():\n",
    "    with mod_out:\n",
    "        clear_output(wait=True)\n",
    "        df_all = merged_df.copy()\n",
    "\n",
    "        num_vars = ['age','dependents','login_frequency_30d','email_opens_6m','customer_service_calls_12m',\n",
    "                    'complaints_filed','policy_amount','premium_amount','riders','days_between_policy_last_login',\n",
    "                    'engagement_score']\n",
    "        cat_vars = ['gender','marital_status','income_bracket','employment_status','education_level',\n",
    "                    'mobile_app_user','policy_type','premium_frequency','payment_method','churn_behavior']\n",
    "\n",
    "        for c in num_vars:\n",
    "            df_all[c] = pd.to_numeric(df_all[c], errors='coerce')\n",
    "        for c in cat_vars:\n",
    "            df_all[c] = df_all[c].astype(str)\n",
    "\n",
    "        df_all = pd.get_dummies(df_all, columns=cat_vars, drop_first=True)\n",
    "\n",
    "        drop_due_to_vif = [\n",
    "            'premium_amount','policy_amount','policy_tenure','max_days_overdue','avg_days_overdue','age',\n",
    "            'premium_frequency_Monthly','num_transactions','engagement_score','email_opens_6m'\n",
    "        ]\n",
    "\n",
    "        X = df_all.drop(\n",
    "            columns=['churned','customer_id','churn_date','policy_start_date',\n",
    "                     'churn_reason','last_login_date','days_between_policy_churn'],\n",
    "            errors='ignore'\n",
    "        )\n",
    "        X = X.drop(columns=drop_due_to_vif, errors='ignore')\n",
    "\n",
    "        leak_cols = [c for c in X.columns if c.startswith('churn_behavior_')]\n",
    "        X = X.drop(columns=leak_cols, errors='ignore')\n",
    "\n",
    "        X = X.apply(pd.to_numeric, errors='coerce')\n",
    "        X = X.replace([np.inf, -np.inf], np.nan)\n",
    "        X = X.select_dtypes(include=[np.number])\n",
    "        X = X.dropna(axis=0)\n",
    "\n",
    "        y = df_all.loc[X.index, 'churned'].astype(int)\n",
    "\n",
    "        # Data Split\n",
    "        sorted_idx = df_all.loc[X.index].sort_values('policy_start_date').index\n",
    "        X = X.loc[sorted_idx]\n",
    "        y = y.loc[sorted_idx]\n",
    "\n",
    "        n = len(X)\n",
    "        train_end = int(n*0.6)\n",
    "        val_end   = int(n*0.8)\n",
    "\n",
    "        X_train, y_train = X.iloc[:train_end], y.iloc[:train_end]\n",
    "        X_val,   y_val   = X.iloc[train_end:val_end], y.iloc[train_end:val_end]\n",
    "        X_test,  y_test  = X.iloc[val_end:], y.iloc[val_end:]\n",
    "\n",
    "        X_train_const = sm.add_constant(X_train, has_constant='add')\n",
    "        X_val_const   = sm.add_constant(X_val,   has_constant='add')\n",
    "        X_test_const  = sm.add_constant(X_test,  has_constant='add')\n",
    "\n",
    "        # 1) Logistic (statsmodels)\n",
    "        logit = sm.Logit(y_train, X_train_const).fit(disp=False)\n",
    "        display(HTML(\"<h4>Logistic Regression Summary</h4>\"))\n",
    "        display(logit.summary())\n",
    "\n",
    "        y_val_prob  = logit.predict(X_val_const)\n",
    "        y_test_prob = logit.predict(X_test_const)\n",
    "        print(\"Logit AUC (val):\", roc_auc_score(y_val, y_val_prob))\n",
    "\n",
    "        # 2) Random Forest\n",
    "        rf = RandomForestClassifier(\n",
    "            n_estimators=1000, max_depth=10, class_weight='balanced', n_jobs=-1\n",
    "        )\n",
    "        rf.fit(X_train, y_train)\n",
    "        y_val_rf = rf.predict_proba(X_val)[:,1]\n",
    "        y_test_rf = rf.predict_proba(X_test)[:,1]\n",
    "        print(\"RF AUC (val):\", roc_auc_score(y_val, y_val_rf))\n",
    "\n",
    "        # 3) XGBoost\n",
    "        xgb_clf = xgb.XGBClassifier(\n",
    "            n_estimators=1000, max_depth=5, learning_rate=0.01,\n",
    "            eval_metric='logloss', tree_method='hist'\n",
    "        )\n",
    "        xgb_clf.fit(X_train, y_train, eval_set=[(X_val, y_val)], verbose=False)\n",
    "        y_val_xgb = xgb_clf.predict_proba(X_val)[:,1]\n",
    "        y_test_xgb = xgb_clf.predict_proba(X_test)[:,1]\n",
    "        print(\"XGB AUC (val):\", roc_auc_score(y_val, y_val_xgb))\n",
    "\n",
    "        # 4) Decision Tree\n",
    "        dt = DecisionTreeClassifier(max_depth=5, class_weight='balanced')\n",
    "        dt.fit(X_train, y_train)\n",
    "        y_val_dt = dt.predict_proba(X_val)[:,1]\n",
    "        y_test_dt = dt.predict_proba(X_test)[:,1]\n",
    "        print(\"DT AUC (val):\", roc_auc_score(y_val, y_val_dt))\n",
    "\n",
    "        # 5) EBM\n",
    "        ebm = ExplainableBoostingClassifier(interactions=4)\n",
    "        ebm.fit(X_train, y_train)\n",
    "        y_val_ebm = ebm.predict_proba(X_val)[:,1]\n",
    "        y_test_ebm = ebm.predict_proba(X_test)[:,1]\n",
    "        print(\"EBM AUC (val):\", roc_auc_score(y_val, y_val_ebm))\n",
    "\n",
    "        proba_dict = {\n",
    "            \"Logistic\":      y_test_prob,\n",
    "            \"RandomForest\":  y_test_rf,\n",
    "            \"XGBoost\":       y_test_xgb,\n",
    "            \"DecisionTree\":  y_test_dt,\n",
    "            \"EBM\":           y_test_ebm\n",
    "        }\n",
    "\n",
    "        dd = widgets.Dropdown(\n",
    "            options=list(proba_dict.keys()),\n",
    "            description='Models:',\n",
    "            layout=widgets.Layout(width='40%')\n",
    "        )\n",
    "        th = widgets.FloatSlider(\n",
    "            value=0.34, min=0.0, max=1.0, step=0.01,\n",
    "            description='Threshold:',\n",
    "            layout=widgets.Layout(width='50%')\n",
    "        )\n",
    "        out = widgets.Output()\n",
    "        display(widgets.HBox([dd, th]), out)\n",
    "\n",
    "        def update(*_):\n",
    "            with out:\n",
    "                clear_output(wait=True)\n",
    "                name = dd.value\n",
    "                yp = proba_dict[name]\n",
    "                thr = th.value\n",
    "                yhat = (yp >= thr).astype(int)\n",
    "                auc = roc_auc_score(y_test, yp)\n",
    "                acc = accuracy_score(y_test, yhat)\n",
    "                cm  = confusion_matrix(y_test, yhat)\n",
    "                print(f\"[{name}]  AUC={auc:.4f}  ACC={acc:.4f}  ChurnRate={yhat.mean():.2%}\")\n",
    "                print(\"Confusion Matrix:\\n\", cm)\n",
    "                print(\"\\nClassification Report:\\n\", classification_report(y_test, yhat, digits=4))\n",
    "\n",
    "                fpr, tpr, _ = roc_curve(y_test, yp)\n",
    "                plt.figure(figsize=(5,4))\n",
    "                plt.plot(fpr, tpr, label=f\"AUC={auc:.3f}\")\n",
    "                plt.plot([0,1],[0,1],'k--'); plt.legend()\n",
    "                plt.xlabel(\"FPR\"); plt.ylabel(\"TPR\"); plt.title(f\"ROC — {name}\")\n",
    "                plt.tight_layout(); plt.show()\n",
    "\n",
    "        dd.observe(update, names='value')\n",
    "        th.observe(update, names='value')\n",
    "        update()\n",
    "\n",
    "        # --- Retention Simulation ---\n",
    "        sim_cols = X_test.columns\n",
    "        sim = X_test.copy()\n",
    "\n",
    "        s1 = widgets.IntSlider(value=0, min=-10, max=10, description='customer_service_calls_12m Δ')\n",
    "        s2 = widgets.IntSlider(value=0, min=-10, max=10, description='login_frequency_30d Δ')\n",
    "        s3 = widgets.IntSlider(value=0, min=-5,  max=5,  description='complaints_filed Δ')\n",
    "        s4 = widgets.IntSlider(value=0, min=-1,  max=1,  description='has_chronic_overdue Δ')\n",
    "\n",
    "        model_pick = widgets.Dropdown(options=list(proba_dict.keys()), description='Simulation model:')\n",
    "        out_sim = widgets.Output()\n",
    "        display(widgets.VBox([model_pick, s1, s2, s3, s4]), out_sim)\n",
    "\n",
    "        def run_sim(*_):\n",
    "            with out_sim:\n",
    "                clear_output(wait=True)\n",
    "                sim_df = sim.copy()\n",
    "                if 'customer_service_calls_12m' in sim_cols:\n",
    "                    sim_df['customer_service_calls_12m'] = (sim_df['customer_service_calls_12m'] + s1.value).clip(lower=0)\n",
    "                if 'login_frequency_30d' in sim_cols:\n",
    "                    sim_df['login_frequency_30d'] = (sim_df['login_frequency_30d'] + s2.value).clip(lower=0)\n",
    "                if 'complaints_filed' in sim_cols:\n",
    "                    sim_df['complaints_filed'] = (sim_df['complaints_filed'] + s3.value).clip(lower=0)\n",
    "                if 'has_chronic_overdue' in sim_cols:\n",
    "                    sim_df['has_chronic_overdue'] = (sim_df['has_chronic_overdue'] + s4.value).clip(lower=0)\n",
    "\n",
    "                name = model_pick.value\n",
    "                if name == \"Logistic\":\n",
    "                    yp = logit.predict(sm.add_constant(sim_df, has_constant='add'))\n",
    "                elif name == \"RandomForest\":\n",
    "                    yp = rf.predict_proba(sim_df)[:,1]\n",
    "                elif name == \"XGBoost\":\n",
    "                    yp = xgb_clf.predict_proba(sim_df)[:,1]\n",
    "                elif name == \"DecisionTree\":\n",
    "                    yp = dt.predict_proba(sim_df)[:,1]\n",
    "                else:\n",
    "                    yp = ebm.predict_proba(sim_df)[:,1]\n",
    "\n",
    "                rate = (yp >= th.value).mean()\n",
    "                print(f\"{name}: Simulated Predicted Churn Rate = {rate:.2%}\")\n",
    "\n",
    "        for w in [model_pick, s1, s2, s3, s4, th]:\n",
    "            w.observe(run_sim, names='value')\n",
    "        run_sim()\n",
    "\n",
    "# 👇 No section toggle anymore — just render it\n",
    "render_modeling()"
   ]
  },
  {
   "cell_type": "code",
   "execution_count": 7,
   "id": "dadcafa4",
   "metadata": {
    "vscode": {
     "languageId": "plaintext"
    }
   },
   "outputs": [
    {
     "name": "stdout",
     "output_type": "stream",
     "text": [
      "Monthly Churn Customer Count\n",
      "  churn_month  churn_count\n",
      "0  2023-10-01          453\n",
      "1  2023-11-01          512\n",
      "2  2023-12-01          522\n",
      "3  2024-01-01           13\n"
     ]
    },
    {
     "data": {
      "application/vnd.plotly.v1+json": {
       "config": {
        "plotlyServerURL": "https://plot.ly"
       },
       "data": [
        {
         "hovertemplate": "churn_month=%{x}<br>churn_count=%{y}<extra></extra>",
         "legendgroup": "",
         "line": {
          "color": "#636efa",
          "dash": "solid"
         },
         "marker": {
          "symbol": "circle"
         },
         "mode": "lines",
         "name": "",
         "orientation": "v",
         "showlegend": false,
         "type": "scatter",
         "x": [
          "2023-10-01T00:00:00.000000000",
          "2023-11-01T00:00:00.000000000",
          "2023-12-01T00:00:00.000000000",
          "2024-01-01T00:00:00.000000000"
         ],
         "xaxis": "x",
         "y": {
          "bdata": "xQEAAgoCDQA=",
          "dtype": "i2"
         },
         "yaxis": "y"
        }
       ],
       "layout": {
        "legend": {
         "tracegroupgap": 0
        },
        "margin": {
         "t": 60
        },
        "template": {
         "data": {
          "bar": [
           {
            "error_x": {
             "color": "#2a3f5f"
            },
            "error_y": {
             "color": "#2a3f5f"
            },
            "marker": {
             "line": {
              "color": "#E5ECF6",
              "width": 0.5
             },
             "pattern": {
              "fillmode": "overlay",
              "size": 10,
              "solidity": 0.2
             }
            },
            "type": "bar"
           }
          ],
          "barpolar": [
           {
            "marker": {
             "line": {
              "color": "#E5ECF6",
              "width": 0.5
             },
             "pattern": {
              "fillmode": "overlay",
              "size": 10,
              "solidity": 0.2
             }
            },
            "type": "barpolar"
           }
          ],
          "carpet": [
           {
            "aaxis": {
             "endlinecolor": "#2a3f5f",
             "gridcolor": "white",
             "linecolor": "white",
             "minorgridcolor": "white",
             "startlinecolor": "#2a3f5f"
            },
            "baxis": {
             "endlinecolor": "#2a3f5f",
             "gridcolor": "white",
             "linecolor": "white",
             "minorgridcolor": "white",
             "startlinecolor": "#2a3f5f"
            },
            "type": "carpet"
           }
          ],
          "choropleth": [
           {
            "colorbar": {
             "outlinewidth": 0,
             "ticks": ""
            },
            "type": "choropleth"
           }
          ],
          "contour": [
           {
            "colorbar": {
             "outlinewidth": 0,
             "ticks": ""
            },
            "colorscale": [
             [
              0,
              "#0d0887"
             ],
             [
              0.1111111111111111,
              "#46039f"
             ],
             [
              0.2222222222222222,
              "#7201a8"
             ],
             [
              0.3333333333333333,
              "#9c179e"
             ],
             [
              0.4444444444444444,
              "#bd3786"
             ],
             [
              0.5555555555555556,
              "#d8576b"
             ],
             [
              0.6666666666666666,
              "#ed7953"
             ],
             [
              0.7777777777777778,
              "#fb9f3a"
             ],
             [
              0.8888888888888888,
              "#fdca26"
             ],
             [
              1,
              "#f0f921"
             ]
            ],
            "type": "contour"
           }
          ],
          "contourcarpet": [
           {
            "colorbar": {
             "outlinewidth": 0,
             "ticks": ""
            },
            "type": "contourcarpet"
           }
          ],
          "heatmap": [
           {
            "colorbar": {
             "outlinewidth": 0,
             "ticks": ""
            },
            "colorscale": [
             [
              0,
              "#0d0887"
             ],
             [
              0.1111111111111111,
              "#46039f"
             ],
             [
              0.2222222222222222,
              "#7201a8"
             ],
             [
              0.3333333333333333,
              "#9c179e"
             ],
             [
              0.4444444444444444,
              "#bd3786"
             ],
             [
              0.5555555555555556,
              "#d8576b"
             ],
             [
              0.6666666666666666,
              "#ed7953"
             ],
             [
              0.7777777777777778,
              "#fb9f3a"
             ],
             [
              0.8888888888888888,
              "#fdca26"
             ],
             [
              1,
              "#f0f921"
             ]
            ],
            "type": "heatmap"
           }
          ],
          "histogram": [
           {
            "marker": {
             "pattern": {
              "fillmode": "overlay",
              "size": 10,
              "solidity": 0.2
             }
            },
            "type": "histogram"
           }
          ],
          "histogram2d": [
           {
            "colorbar": {
             "outlinewidth": 0,
             "ticks": ""
            },
            "colorscale": [
             [
              0,
              "#0d0887"
             ],
             [
              0.1111111111111111,
              "#46039f"
             ],
             [
              0.2222222222222222,
              "#7201a8"
             ],
             [
              0.3333333333333333,
              "#9c179e"
             ],
             [
              0.4444444444444444,
              "#bd3786"
             ],
             [
              0.5555555555555556,
              "#d8576b"
             ],
             [
              0.6666666666666666,
              "#ed7953"
             ],
             [
              0.7777777777777778,
              "#fb9f3a"
             ],
             [
              0.8888888888888888,
              "#fdca26"
             ],
             [
              1,
              "#f0f921"
             ]
            ],
            "type": "histogram2d"
           }
          ],
          "histogram2dcontour": [
           {
            "colorbar": {
             "outlinewidth": 0,
             "ticks": ""
            },
            "colorscale": [
             [
              0,
              "#0d0887"
             ],
             [
              0.1111111111111111,
              "#46039f"
             ],
             [
              0.2222222222222222,
              "#7201a8"
             ],
             [
              0.3333333333333333,
              "#9c179e"
             ],
             [
              0.4444444444444444,
              "#bd3786"
             ],
             [
              0.5555555555555556,
              "#d8576b"
             ],
             [
              0.6666666666666666,
              "#ed7953"
             ],
             [
              0.7777777777777778,
              "#fb9f3a"
             ],
             [
              0.8888888888888888,
              "#fdca26"
             ],
             [
              1,
              "#f0f921"
             ]
            ],
            "type": "histogram2dcontour"
           }
          ],
          "mesh3d": [
           {
            "colorbar": {
             "outlinewidth": 0,
             "ticks": ""
            },
            "type": "mesh3d"
           }
          ],
          "parcoords": [
           {
            "line": {
             "colorbar": {
              "outlinewidth": 0,
              "ticks": ""
             }
            },
            "type": "parcoords"
           }
          ],
          "pie": [
           {
            "automargin": true,
            "type": "pie"
           }
          ],
          "scatter": [
           {
            "fillpattern": {
             "fillmode": "overlay",
             "size": 10,
             "solidity": 0.2
            },
            "type": "scatter"
           }
          ],
          "scatter3d": [
           {
            "line": {
             "colorbar": {
              "outlinewidth": 0,
              "ticks": ""
             }
            },
            "marker": {
             "colorbar": {
              "outlinewidth": 0,
              "ticks": ""
             }
            },
            "type": "scatter3d"
           }
          ],
          "scattercarpet": [
           {
            "marker": {
             "colorbar": {
              "outlinewidth": 0,
              "ticks": ""
             }
            },
            "type": "scattercarpet"
           }
          ],
          "scattergeo": [
           {
            "marker": {
             "colorbar": {
              "outlinewidth": 0,
              "ticks": ""
             }
            },
            "type": "scattergeo"
           }
          ],
          "scattergl": [
           {
            "marker": {
             "colorbar": {
              "outlinewidth": 0,
              "ticks": ""
             }
            },
            "type": "scattergl"
           }
          ],
          "scattermap": [
           {
            "marker": {
             "colorbar": {
              "outlinewidth": 0,
              "ticks": ""
             }
            },
            "type": "scattermap"
           }
          ],
          "scattermapbox": [
           {
            "marker": {
             "colorbar": {
              "outlinewidth": 0,
              "ticks": ""
             }
            },
            "type": "scattermapbox"
           }
          ],
          "scatterpolar": [
           {
            "marker": {
             "colorbar": {
              "outlinewidth": 0,
              "ticks": ""
             }
            },
            "type": "scatterpolar"
           }
          ],
          "scatterpolargl": [
           {
            "marker": {
             "colorbar": {
              "outlinewidth": 0,
              "ticks": ""
             }
            },
            "type": "scatterpolargl"
           }
          ],
          "scatterternary": [
           {
            "marker": {
             "colorbar": {
              "outlinewidth": 0,
              "ticks": ""
             }
            },
            "type": "scatterternary"
           }
          ],
          "surface": [
           {
            "colorbar": {
             "outlinewidth": 0,
             "ticks": ""
            },
            "colorscale": [
             [
              0,
              "#0d0887"
             ],
             [
              0.1111111111111111,
              "#46039f"
             ],
             [
              0.2222222222222222,
              "#7201a8"
             ],
             [
              0.3333333333333333,
              "#9c179e"
             ],
             [
              0.4444444444444444,
              "#bd3786"
             ],
             [
              0.5555555555555556,
              "#d8576b"
             ],
             [
              0.6666666666666666,
              "#ed7953"
             ],
             [
              0.7777777777777778,
              "#fb9f3a"
             ],
             [
              0.8888888888888888,
              "#fdca26"
             ],
             [
              1,
              "#f0f921"
             ]
            ],
            "type": "surface"
           }
          ],
          "table": [
           {
            "cells": {
             "fill": {
              "color": "#EBF0F8"
             },
             "line": {
              "color": "white"
             }
            },
            "header": {
             "fill": {
              "color": "#C8D4E3"
             },
             "line": {
              "color": "white"
             }
            },
            "type": "table"
           }
          ]
         },
         "layout": {
          "annotationdefaults": {
           "arrowcolor": "#2a3f5f",
           "arrowhead": 0,
           "arrowwidth": 1
          },
          "autotypenumbers": "strict",
          "coloraxis": {
           "colorbar": {
            "outlinewidth": 0,
            "ticks": ""
           }
          },
          "colorscale": {
           "diverging": [
            [
             0,
             "#8e0152"
            ],
            [
             0.1,
             "#c51b7d"
            ],
            [
             0.2,
             "#de77ae"
            ],
            [
             0.3,
             "#f1b6da"
            ],
            [
             0.4,
             "#fde0ef"
            ],
            [
             0.5,
             "#f7f7f7"
            ],
            [
             0.6,
             "#e6f5d0"
            ],
            [
             0.7,
             "#b8e186"
            ],
            [
             0.8,
             "#7fbc41"
            ],
            [
             0.9,
             "#4d9221"
            ],
            [
             1,
             "#276419"
            ]
           ],
           "sequential": [
            [
             0,
             "#0d0887"
            ],
            [
             0.1111111111111111,
             "#46039f"
            ],
            [
             0.2222222222222222,
             "#7201a8"
            ],
            [
             0.3333333333333333,
             "#9c179e"
            ],
            [
             0.4444444444444444,
             "#bd3786"
            ],
            [
             0.5555555555555556,
             "#d8576b"
            ],
            [
             0.6666666666666666,
             "#ed7953"
            ],
            [
             0.7777777777777778,
             "#fb9f3a"
            ],
            [
             0.8888888888888888,
             "#fdca26"
            ],
            [
             1,
             "#f0f921"
            ]
           ],
           "sequentialminus": [
            [
             0,
             "#0d0887"
            ],
            [
             0.1111111111111111,
             "#46039f"
            ],
            [
             0.2222222222222222,
             "#7201a8"
            ],
            [
             0.3333333333333333,
             "#9c179e"
            ],
            [
             0.4444444444444444,
             "#bd3786"
            ],
            [
             0.5555555555555556,
             "#d8576b"
            ],
            [
             0.6666666666666666,
             "#ed7953"
            ],
            [
             0.7777777777777778,
             "#fb9f3a"
            ],
            [
             0.8888888888888888,
             "#fdca26"
            ],
            [
             1,
             "#f0f921"
            ]
           ]
          },
          "colorway": [
           "#636efa",
           "#EF553B",
           "#00cc96",
           "#ab63fa",
           "#FFA15A",
           "#19d3f3",
           "#FF6692",
           "#B6E880",
           "#FF97FF",
           "#FECB52"
          ],
          "font": {
           "color": "#2a3f5f"
          },
          "geo": {
           "bgcolor": "white",
           "lakecolor": "white",
           "landcolor": "#E5ECF6",
           "showlakes": true,
           "showland": true,
           "subunitcolor": "white"
          },
          "hoverlabel": {
           "align": "left"
          },
          "hovermode": "closest",
          "mapbox": {
           "style": "light"
          },
          "paper_bgcolor": "white",
          "plot_bgcolor": "#E5ECF6",
          "polar": {
           "angularaxis": {
            "gridcolor": "white",
            "linecolor": "white",
            "ticks": ""
           },
           "bgcolor": "#E5ECF6",
           "radialaxis": {
            "gridcolor": "white",
            "linecolor": "white",
            "ticks": ""
           }
          },
          "scene": {
           "xaxis": {
            "backgroundcolor": "#E5ECF6",
            "gridcolor": "white",
            "gridwidth": 2,
            "linecolor": "white",
            "showbackground": true,
            "ticks": "",
            "zerolinecolor": "white"
           },
           "yaxis": {
            "backgroundcolor": "#E5ECF6",
            "gridcolor": "white",
            "gridwidth": 2,
            "linecolor": "white",
            "showbackground": true,
            "ticks": "",
            "zerolinecolor": "white"
           },
           "zaxis": {
            "backgroundcolor": "#E5ECF6",
            "gridcolor": "white",
            "gridwidth": 2,
            "linecolor": "white",
            "showbackground": true,
            "ticks": "",
            "zerolinecolor": "white"
           }
          },
          "shapedefaults": {
           "line": {
            "color": "#2a3f5f"
           }
          },
          "ternary": {
           "aaxis": {
            "gridcolor": "white",
            "linecolor": "white",
            "ticks": ""
           },
           "baxis": {
            "gridcolor": "white",
            "linecolor": "white",
            "ticks": ""
           },
           "bgcolor": "#E5ECF6",
           "caxis": {
            "gridcolor": "white",
            "linecolor": "white",
            "ticks": ""
           }
          },
          "title": {
           "x": 0.05
          },
          "xaxis": {
           "automargin": true,
           "gridcolor": "white",
           "linecolor": "white",
           "ticks": "",
           "title": {
            "standoff": 15
           },
           "zerolinecolor": "white",
           "zerolinewidth": 2
          },
          "yaxis": {
           "automargin": true,
           "gridcolor": "white",
           "linecolor": "white",
           "ticks": "",
           "title": {
            "standoff": 15
           },
           "zerolinecolor": "white",
           "zerolinewidth": 2
          }
         }
        },
        "xaxis": {
         "anchor": "y",
         "domain": [
          0,
          1
         ],
         "title": {
          "text": "churn_month"
         }
        },
        "yaxis": {
         "anchor": "x",
         "domain": [
          0,
          1
         ],
         "title": {
          "text": "churn_count"
         }
        }
       }
      },
      "image/png": "[encoded data removed]"
     },
     "metadata": {},
     "output_type": "display_data"
    },
    {
     "name": "stdout",
     "output_type": "stream",
     "text": [
      "Churn Reason Distribution\n"
     ]
    },
    {
     "data": {
      "application/vnd.plotly.v1+json": {
       "config": {
        "plotlyServerURL": "https://plot.ly"
       },
       "data": [
        {
         "hovertemplate": "churn_reason=%{x}<br>y=%{y}<extra></extra>",
         "legendgroup": "",
         "marker": {
          "color": "#636efa",
          "pattern": {
           "shape": ""
          }
         },
         "name": "",
         "orientation": "v",
         "showlegend": false,
         "textposition": "auto",
         "type": "bar",
         "x": [
          "Price",
          "Financial",
          "Service",
          "Competition",
          "Life_Change",
          "Unknown"
         ],
         "xaxis": "x",
         "y": {
          "bdata": "VOOlm8Qg0D9vy1odEzzIP4PAyqFFtsM/oNMGOm2gwz++5kLSlIrDPw/mifo3Qrk/",
          "dtype": "f8"
         },
         "yaxis": "y"
        }
       ],
       "layout": {
        "barmode": "relative",
        "legend": {
         "tracegroupgap": 0
        },
        "margin": {
         "t": 60
        },
        "template": {
         "data": {
          "bar": [
           {
            "error_x": {
             "color": "#2a3f5f"
            },
            "error_y": {
             "color": "#2a3f5f"
            },
            "marker": {
             "line": {
              "color": "#E5ECF6",
              "width": 0.5
             },
             "pattern": {
              "fillmode": "overlay",
              "size": 10,
              "solidity": 0.2
             }
            },
            "type": "bar"
           }
          ],
          "barpolar": [
           {
            "marker": {
             "line": {
              "color": "#E5ECF6",
              "width": 0.5
             },
             "pattern": {
              "fillmode": "overlay",
              "size": 10,
              "solidity": 0.2
             }
            },
            "type": "barpolar"
           }
          ],
          "carpet": [
           {
            "aaxis": {
             "endlinecolor": "#2a3f5f",
             "gridcolor": "white",
             "linecolor": "white",
             "minorgridcolor": "white",
             "startlinecolor": "#2a3f5f"
            },
            "baxis": {
             "endlinecolor": "#2a3f5f",
             "gridcolor": "white",
             "linecolor": "white",
             "minorgridcolor": "white",
             "startlinecolor": "#2a3f5f"
            },
            "type": "carpet"
           }
          ],
          "choropleth": [
           {
            "colorbar": {
             "outlinewidth": 0,
             "ticks": ""
            },
            "type": "choropleth"
           }
          ],
          "contour": [
           {
            "colorbar": {
             "outlinewidth": 0,
             "ticks": ""
            },
            "colorscale": [
             [
              0,
              "#0d0887"
             ],
             [
              0.1111111111111111,
              "#46039f"
             ],
             [
              0.2222222222222222,
              "#7201a8"
             ],
             [
              0.3333333333333333,
              "#9c179e"
             ],
             [
              0.4444444444444444,
              "#bd3786"
             ],
             [
              0.5555555555555556,
              "#d8576b"
             ],
             [
              0.6666666666666666,
              "#ed7953"
             ],
             [
              0.7777777777777778,
              "#fb9f3a"
             ],
             [
              0.8888888888888888,
              "#fdca26"
             ],
             [
              1,
              "#f0f921"
             ]
            ],
            "type": "contour"
           }
          ],
          "contourcarpet": [
           {
            "colorbar": {
             "outlinewidth": 0,
             "ticks": ""
            },
            "type": "contourcarpet"
           }
          ],
          "heatmap": [
           {
            "colorbar": {
             "outlinewidth": 0,
             "ticks": ""
            },
            "colorscale": [
             [
              0,
              "#0d0887"
             ],
             [
              0.1111111111111111,
              "#46039f"
             ],
             [
              0.2222222222222222,
              "#7201a8"
             ],
             [
              0.3333333333333333,
              "#9c179e"
             ],
             [
              0.4444444444444444,
              "#bd3786"
             ],
             [
              0.5555555555555556,
              "#d8576b"
             ],
             [
              0.6666666666666666,
              "#ed7953"
             ],
             [
              0.7777777777777778,
              "#fb9f3a"
             ],
             [
              0.8888888888888888,
              "#fdca26"
             ],
             [
              1,
              "#f0f921"
             ]
            ],
            "type": "heatmap"
           }
          ],
          "histogram": [
           {
            "marker": {
             "pattern": {
              "fillmode": "overlay",
              "size": 10,
              "solidity": 0.2
             }
            },
            "type": "histogram"
           }
          ],
          "histogram2d": [
           {
            "colorbar": {
             "outlinewidth": 0,
             "ticks": ""
            },
            "colorscale": [
             [
              0,
              "#0d0887"
             ],
             [
              0.1111111111111111,
              "#46039f"
             ],
             [
              0.2222222222222222,
              "#7201a8"
             ],
             [
              0.3333333333333333,
              "#9c179e"
             ],
             [
              0.4444444444444444,
              "#bd3786"
             ],
             [
              0.5555555555555556,
              "#d8576b"
             ],
             [
              0.6666666666666666,
              "#ed7953"
             ],
             [
              0.7777777777777778,
              "#fb9f3a"
             ],
             [
              0.8888888888888888,
              "#fdca26"
             ],
             [
              1,
              "#f0f921"
             ]
            ],
            "type": "histogram2d"
           }
          ],
          "histogram2dcontour": [
           {
            "colorbar": {
             "outlinewidth": 0,
             "ticks": ""
            },
            "colorscale": [
             [
              0,
              "#0d0887"
             ],
             [
              0.1111111111111111,
              "#46039f"
             ],
             [
              0.2222222222222222,
              "#7201a8"
             ],
             [
              0.3333333333333333,
              "#9c179e"
             ],
             [
              0.4444444444444444,
              "#bd3786"
             ],
             [
              0.5555555555555556,
              "#d8576b"
             ],
             [
              0.6666666666666666,
              "#ed7953"
             ],
             [
              0.7777777777777778,
              "#fb9f3a"
             ],
             [
              0.8888888888888888,
              "#fdca26"
             ],
             [
              1,
              "#f0f921"
             ]
            ],
            "type": "histogram2dcontour"
           }
          ],
          "mesh3d": [
           {
            "colorbar": {
             "outlinewidth": 0,
             "ticks": ""
            },
            "type": "mesh3d"
           }
          ],
          "parcoords": [
           {
            "line": {
             "colorbar": {
              "outlinewidth": 0,
              "ticks": ""
             }
            },
            "type": "parcoords"
           }
          ],
          "pie": [
           {
            "automargin": true,
            "type": "pie"
           }
          ],
          "scatter": [
           {
            "fillpattern": {
             "fillmode": "overlay",
             "size": 10,
             "solidity": 0.2
            },
            "type": "scatter"
           }
          ],
          "scatter3d": [
           {
            "line": {
             "colorbar": {
              "outlinewidth": 0,
              "ticks": ""
             }
            },
            "marker": {
             "colorbar": {
              "outlinewidth": 0,
              "ticks": ""
             }
            },
            "type": "scatter3d"
           }
          ],
          "scattercarpet": [
           {
            "marker": {
             "colorbar": {
              "outlinewidth": 0,
              "ticks": ""
             }
            },
            "type": "scattercarpet"
           }
          ],
          "scattergeo": [
           {
            "marker": {
             "colorbar": {
              "outlinewidth": 0,
              "ticks": ""
             }
            },
            "type": "scattergeo"
           }
          ],
          "scattergl": [
           {
            "marker": {
             "colorbar": {
              "outlinewidth": 0,
              "ticks": ""
             }
            },
            "type": "scattergl"
           }
          ],
          "scattermap": [
           {
            "marker": {
             "colorbar": {
              "outlinewidth": 0,
              "ticks": ""
             }
            },
            "type": "scattermap"
           }
          ],
          "scattermapbox": [
           {
            "marker": {
             "colorbar": {
              "outlinewidth": 0,
              "ticks": ""
             }
            },
            "type": "scattermapbox"
           }
          ],
          "scatterpolar": [
           {
            "marker": {
             "colorbar": {
              "outlinewidth": 0,
              "ticks": ""
             }
            },
            "type": "scatterpolar"
           }
          ],
          "scatterpolargl": [
           {
            "marker": {
             "colorbar": {
              "outlinewidth": 0,
              "ticks": ""
             }
            },
            "type": "scatterpolargl"
           }
          ],
          "scatterternary": [
           {
            "marker": {
             "colorbar": {
              "outlinewidth": 0,
              "ticks": ""
             }
            },
            "type": "scatterternary"
           }
          ],
          "surface": [
           {
            "colorbar": {
             "outlinewidth": 0,
             "ticks": ""
            },
            "colorscale": [
             [
              0,
              "#0d0887"
             ],
             [
              0.1111111111111111,
              "#46039f"
             ],
             [
              0.2222222222222222,
              "#7201a8"
             ],
             [
              0.3333333333333333,
              "#9c179e"
             ],
             [
              0.4444444444444444,
              "#bd3786"
             ],
             [
              0.5555555555555556,
              "#d8576b"
             ],
             [
              0.6666666666666666,
              "#ed7953"
             ],
             [
              0.7777777777777778,
              "#fb9f3a"
             ],
             [
              0.8888888888888888,
              "#fdca26"
             ],
             [
              1,
              "#f0f921"
             ]
            ],
            "type": "surface"
           }
          ],
          "table": [
           {
            "cells": {
             "fill": {
              "color": "#EBF0F8"
             },
             "line": {
              "color": "white"
             }
            },
            "header": {
             "fill": {
              "color": "#C8D4E3"
             },
             "line": {
              "color": "white"
             }
            },
            "type": "table"
           }
          ]
         },
         "layout": {
          "annotationdefaults": {
           "arrowcolor": "#2a3f5f",
           "arrowhead": 0,
           "arrowwidth": 1
          },
          "autotypenumbers": "strict",
          "coloraxis": {
           "colorbar": {
            "outlinewidth": 0,
            "ticks": ""
           }
          },
          "colorscale": {
           "diverging": [
            [
             0,
             "#8e0152"
            ],
            [
             0.1,
             "#c51b7d"
            ],
            [
             0.2,
             "#de77ae"
            ],
            [
             0.3,
             "#f1b6da"
            ],
            [
             0.4,
             "#fde0ef"
            ],
            [
             0.5,
             "#f7f7f7"
            ],
            [
             0.6,
             "#e6f5d0"
            ],
            [
             0.7,
             "#b8e186"
            ],
            [
             0.8,
             "#7fbc41"
            ],
            [
             0.9,
             "#4d9221"
            ],
            [
             1,
             "#276419"
            ]
           ],
           "sequential": [
            [
             0,
             "#0d0887"
            ],
            [
             0.1111111111111111,
             "#46039f"
            ],
            [
             0.2222222222222222,
             "#7201a8"
            ],
            [
             0.3333333333333333,
             "#9c179e"
            ],
            [
             0.4444444444444444,
             "#bd3786"
            ],
            [
             0.5555555555555556,
             "#d8576b"
            ],
            [
             0.6666666666666666,
             "#ed7953"
            ],
            [
             0.7777777777777778,
             "#fb9f3a"
            ],
            [
             0.8888888888888888,
             "#fdca26"
            ],
            [
             1,
             "#f0f921"
            ]
           ],
           "sequentialminus": [
            [
             0,
             "#0d0887"
            ],
            [
             0.1111111111111111,
             "#46039f"
            ],
            [
             0.2222222222222222,
             "#7201a8"
            ],
            [
             0.3333333333333333,
             "#9c179e"
            ],
            [
             0.4444444444444444,
             "#bd3786"
            ],
            [
             0.5555555555555556,
             "#d8576b"
            ],
            [
             0.6666666666666666,
             "#ed7953"
            ],
            [
             0.7777777777777778,
             "#fb9f3a"
            ],
            [
             0.8888888888888888,
             "#fdca26"
            ],
            [
             1,
             "#f0f921"
            ]
           ]
          },
          "colorway": [
           "#636efa",
           "#EF553B",
           "#00cc96",
           "#ab63fa",
           "#FFA15A",
           "#19d3f3",
           "#FF6692",
           "#B6E880",
           "#FF97FF",
           "#FECB52"
          ],
          "font": {
           "color": "#2a3f5f"
          },
          "geo": {
           "bgcolor": "white",
           "lakecolor": "white",
           "landcolor": "#E5ECF6",
           "showlakes": true,
           "showland": true,
           "subunitcolor": "white"
          },
          "hoverlabel": {
           "align": "left"
          },
          "hovermode": "closest",
          "mapbox": {
           "style": "light"
          },
          "paper_bgcolor": "white",
          "plot_bgcolor": "#E5ECF6",
          "polar": {
           "angularaxis": {
            "gridcolor": "white",
            "linecolor": "white",
            "ticks": ""
           },
           "bgcolor": "#E5ECF6",
           "radialaxis": {
            "gridcolor": "white",
            "linecolor": "white",
            "ticks": ""
           }
          },
          "scene": {
           "xaxis": {
            "backgroundcolor": "#E5ECF6",
            "gridcolor": "white",
            "gridwidth": 2,
            "linecolor": "white",
            "showbackground": true,
            "ticks": "",
            "zerolinecolor": "white"
           },
           "yaxis": {
            "backgroundcolor": "#E5ECF6",
            "gridcolor": "white",
            "gridwidth": 2,
            "linecolor": "white",
            "showbackground": true,
            "ticks": "",
            "zerolinecolor": "white"
           },
           "zaxis": {
            "backgroundcolor": "#E5ECF6",
            "gridcolor": "white",
            "gridwidth": 2,
            "linecolor": "white",
            "showbackground": true,
            "ticks": "",
            "zerolinecolor": "white"
           }
          },
          "shapedefaults": {
           "line": {
            "color": "#2a3f5f"
           }
          },
          "ternary": {
           "aaxis": {
            "gridcolor": "white",
            "linecolor": "white",
            "ticks": ""
           },
           "baxis": {
            "gridcolor": "white",
            "linecolor": "white",
            "ticks": ""
           },
           "bgcolor": "#E5ECF6",
           "caxis": {
            "gridcolor": "white",
            "linecolor": "white",
            "ticks": ""
           }
          },
          "title": {
           "x": 0.05
          },
          "xaxis": {
           "automargin": true,
           "gridcolor": "white",
           "linecolor": "white",
           "ticks": "",
           "title": {
            "standoff": 15
           },
           "zerolinecolor": "white",
           "zerolinewidth": 2
          },
          "yaxis": {
           "automargin": true,
           "gridcolor": "white",
           "linecolor": "white",
           "ticks": "",
           "title": {
            "standoff": 15
           },
           "zerolinecolor": "white",
           "zerolinewidth": 2
          }
         }
        },
        "xaxis": {
         "anchor": "y",
         "domain": [
          0,
          1
         ],
         "title": {
          "text": "churn_reason"
         }
        },
        "yaxis": {
         "anchor": "x",
         "domain": [
          0,
          1
         ],
         "title": {
          "text": "y"
         }
        }
       }
      },
      "image/png": "[encoded data removed]"
     },
     "metadata": {},
     "output_type": "display_data"
    },
    {
     "name": "stdout",
     "output_type": "stream",
     "text": [
      "   policy_month  policy_start_count  monthly_churn_count\n",
      "0    2022-01-01                 445                   69\n",
      "1    2022-02-01                 434                   72\n",
      "2    2022-03-01                 479                   81\n",
      "3    2022-04-01                 495                   79\n",
      "4    2022-05-01                 532                   81\n",
      "5    2022-06-01                 481                   73\n",
      "6    2022-07-01                 488                   79\n",
      "7    2022-08-01                 436                   68\n",
      "8    2022-09-01                 424                   64\n",
      "9    2022-10-01                 472                   68\n",
      "10   2022-11-01                 497                   72\n",
      "11   2022-12-01                 452                   65\n",
      "12   2023-01-01                 521                   77\n",
      "13   2023-02-01                 437                   65\n",
      "14   2023-03-01                 488                   75\n",
      "15   2023-04-01                 461                   61\n",
      "16   2023-05-01                 520                   79\n",
      "17   2023-06-01                 451                   65\n",
      "18   2023-07-01                 479                   55\n",
      "19   2023-08-01                 489                   77\n",
      "20   2023-09-01                 469                   68\n",
      "21   2023-10-01                  50                    7\n",
      "Churn Reason VS Key Features\n",
      "**Churn Reason vs age**\n"
     ]
    },
    {
     "data": {
      "application/vnd.plotly.v1+json": {
       "config": {
        "plotlyServerURL": "https://plot.ly"
       },
       "data": [
        {
         "alignmentgroup": "True",
         "boxpoints": "all",
         "hovertemplate": "churn_reason=%{x}<br>age=%{y}<extra></extra>",
         "legendgroup": "",
         "marker": {
          "color": "#636efa"
         },
         "name": "",
         "notched": false,
         "offsetgroup": "",
         "orientation": "v",
         "showlegend": false,
         "type": "box",
         "x": [
          "Financial",
          "Financial",
          "Financial",
          "Financial",
          "Service",
          "Life_Change",
          "Financial",
          "Price",
          "Service",
          "Competition",
          "Competition",
          "Price",
          "Unknown",
          "Competition",
          "Service",
          "Service",
          "Unknown",
          "Financial",
          "Price",
          "Service",
          "Financial",
          "Price",
          "Price",
          "Financial",
          "Life_Change",
          "Unknown",
          "Life_Change",
          "Price",
          "Price",
          "Financial",
          "Competition",
          "Competition",
          "Service",
          "Service",
          "Unknown",
          "Financial",
          "Competition",
          "Financial",
          "Life_Change",
          "Life_Change",
          "Competition",
          "Unknown",
          "Price",
          "Financial",
          "Price",
          "Price",
          "Life_Change",
          "Competition",
          "Price",
          "Unknown",
          "Price",
          "Competition",
          "Competition",
          "Financial",
          "Life_Change",
          "Service",
          "Life_Change",
          "Financial",
          "Service",
          "Service",
          "Service",
          "Price",
          "Competition",
          "Financial",
          "Service",
          "Price",
          "Price",
          "Competition",
          "Life_Change",
          "Service",
          "Financial",
          "Financial",
          "Price",
          "Financial",
          "Competition",
          "Life_Change",
          "Life_Change",
          "Life_Change",
          "Unknown",
          "Service",
          "Competition",
          "Financial",
          "Financial",
          "Service",
          "Life_Change",
          "Life_Change",
          "Life_Change",
          "Unknown",
          "Service",
          "Unknown",
          "Price",
          "Price",
          "Price",
          "Price",
          "Service",
          "Service",
          "Unknown",
          "Service",
          "Competition",
          "Unknown",
          "Service",
          "Unknown",
          "Life_Change",
          "Life_Change",
          "Financial",
          "Life_Change",
          "Competition",
          "Financial",
          "Life_Change",
          "Life_Change",
          "Service",
          "Price",
          "Unknown",
          "Life_Change",
          "Life_Change",
          "Price",
          "Life_Change",
          "Financial",
          "Unknown",
          "Competition",
          "Financial",
          "Price",
          "Financial",
          "Competition",
          "Unknown",
          "Life_Change",
          "Service",
          "Price",
          "Financial",
          "Service",
          "Service",
          "Competition",
          "Competition",
          "Competition",
          "Life_Change",
          "Price",
          "Unknown",
          "Service",
          "Service",
          "Competition",
          "Price",
          "Competition",
          "Service",
          "Competition",
          "Life_Change",
          "Unknown",
          "Financial",
          "Life_Change",
          "Financial",
          "Price",
          "Competition",
          "Service",
          "Price",
          "Price",
          "Service",
          "Competition",
          "Life_Change",
          "Life_Change",
          "Financial",
          "Price",
          "Price",
          "Price",
          "Financial",
          "Unknown",
          "Price",
          "Price",
          "Price",
          "Unknown",
          "Life_Change",
          "Unknown",
          "Competition",
          "Competition",
          "Price",
          "Financial",
          "Life_Change",
          "Life_Change",
          "Life_Change",
          "Service",
          "Price",
          "Price",
          "Competition",
          "Price",
          "Life_Change",
          "Life_Change",
          "Price",
          "Financial",
          "Competition",
          "Unknown",
          "Financial",
          "Price",
          "Competition",
          "Service",
          "Financial",
          "Price",
          "Life_Change",
          "Financial",
          "Competition",
          "Price",
          "Financial",
          "Service",
          "Price",
          "Competition",
          "Unknown",
          "Competition",
          "Price",
          "Competition",
          "Life_Change",
          "Price",
          "Unknown",
          "Competition",
          "Unknown",
          "Competition",
          "Competition",
          "Life_Change",
          "Life_Change",
          "Life_Change",
          "Life_Change",
          "Financial",
          "Service",
          "Service",
          "Unknown",
          "Life_Change",
          "Service",
          "Financial",
          "Service",
          "Competition",
          "Service",
          "Life_Change",
          "Financial",
          "Price",
          "Financial",
          "Competition",
          "Financial",
          "Financial",
          "Unknown",
          "Competition",
          "Unknown",
          "Price",
          "Life_Change",
          "Competition",
          "Price",
          "Unknown",
          "Life_Change",
          "Financial",
          "Price",
          "Price",
          "Price",
          "Price",
          "Unknown",
          "Competition",
          "Price",
          "Unknown",
          "Price",
          "Financial",
          "Competition",
          "Life_Change",
          "Life_Change",
          "Unknown",
          "Service",
          "Service",
          "Competition",
          "Life_Change",
          "Competition",
          "Service",
          "Life_Change",
          "Unknown",
          "Price",
          "Price",
          "Unknown",
          "Financial",
          "Price",
          "Service",
          "Financial",
          "Competition",
          "Price",
          "Life_Change",
          "Financial",
          "Financial",
          "Financial",
          "Price",
          "Life_Change",
          "Price",
          "Financial",
          "Financial",
          "Price",
          "Financial",
          "Service",
          "Competition",
          "Financial",
          "Price",
          "Financial",
          "Price",
          "Price",
          "Price",
          "Price",
          "Unknown",
          "Competition",
          "Competition",
          "Unknown",
          "Price",
          "Price",
          "Competition",
          "Competition",
          "Unknown",
          "Service",
          "Financial",
          "Financial",
          "Service",
          "Service",
          "Service",
          "Life_Change",
          "Service",
          "Competition",
          "Service",
          "Price",
          "Unknown",
          "Price",
          "Price",
          "Service",
          "Service",
          "Service",
          "Life_Change",
          "Service",
          "Competition",
          "Price",
          "Life_Change",
          "Service",
          "Financial",
          "Financial",
          "Price",
          "Financial",
          "Life_Change",
          "Service",
          "Unknown",
          "Price",
          "Price",
          "Service",
          "Life_Change",
          "Price",
          "Financial",
          "Competition",
          "Life_Change",
          "Unknown",
          "Unknown",
          "Life_Change",
          "Price",
          "Service",
          "Life_Change",
          "Unknown",
          "Price",
          "Service",
          "Competition",
          "Financial",
          "Price",
          "Life_Change",
          "Service",
          "Service",
          "Financial",
          "Life_Change",
          "Financial",
          "Price",
          "Financial",
          "Price",
          "Price",
          "Financial",
          "Price",
          "Competition",
          "Financial",
          "Service",
          "Price",
          "Financial",
          "Life_Change",
          "Competition",
          "Unknown",
          "Financial",
          "Competition",
          "Price",
          "Life_Change",
          "Financial",
          "Financial",
          "Service",
          "Service",
          "Price",
          "Unknown",
          "Price",
          "Price",
          "Financial",
          "Unknown",
          "Price",
          "Service",
          "Service",
          "Financial",
          "Life_Change",
          "Financial",
          "Service",
          "Service",
          "Unknown",
          "Unknown",
          "Financial",
          "Life_Change",
          "Unknown",
          "Financial",
          "Service",
          "Service",
          "Competition",
          "Service",
          "Financial",
          "Price",
          "Unknown",
          "Price",
          "Unknown",
          "Life_Change",
          "Life_Change",
          "Unknown",
          "Life_Change",
          "Service",
          "Price",
          "Financial",
          "Price",
          "Unknown",
          "Life_Change",
          "Life_Change",
          "Service",
          "Price",
          "Competition",
          "Competition",
          "Life_Change",
          "Financial",
          "Price",
          "Life_Change",
          "Competition",
          "Unknown",
          "Price",
          "Financial",
          "Competition",
          "Unknown",
          "Life_Change",
          "Service",
          "Financial",
          "Service",
          "Unknown",
          "Financial",
          "Unknown",
          "Service",
          "Price",
          "Financial",
          "Unknown",
          "Competition",
          "Price",
          "Price",
          "Financial",
          "Price",
          "Price",
          "Life_Change",
          "Life_Change",
          "Price",
          "Life_Change",
          "Price",
          "Life_Change",
          "Competition",
          "Life_Change",
          "Life_Change",
          "Price",
          "Price",
          "Price",
          "Life_Change",
          "Financial",
          "Unknown",
          "Service",
          "Price",
          "Service",
          "Service",
          "Life_Change",
          "Service",
          "Price",
          "Service",
          "Life_Change",
          "Financial",
          "Competition",
          "Price",
          "Price",
          "Price",
          "Life_Change",
          "Competition",
          "Price",
          "Price",
          "Price",
          "Service",
          "Competition",
          "Price",
          "Price",
          "Financial",
          "Service",
          "Price",
          "Price",
          "Service",
          "Price",
          "Service",
          "Service",
          "Price",
          "Competition",
          "Life_Change",
          "Competition",
          "Price",
          "Price",
          "Unknown",
          "Financial",
          "Life_Change",
          "Competition",
          "Competition",
          "Price",
          "Life_Change",
          "Financial",
          "Service",
          "Competition",
          "Service",
          "Service",
          "Price",
          "Service",
          "Competition",
          "Service",
          "Life_Change",
          "Unknown",
          "Price",
          "Financial",
          "Service",
          "Service",
          "Financial",
          "Financial",
          "Service",
          "Service",
          "Price",
          "Service",
          "Unknown",
          "Financial",
          "Service",
          "Life_Change",
          "Life_Change",
          "Competition",
          "Service",
          "Financial",
          "Financial",
          "Price",
          "Financial",
          "Price",
          "Competition",
          "Life_Change",
          "Financial",
          "Service",
          "Life_Change",
          "Price",
          "Price",
          "Price",
          "Life_Change",
          "Financial",
          "Price",
          "Financial",
          "Life_Change",
          "Financial",
          "Life_Change",
          "Unknown",
          "Service",
          "Financial",
          "Life_Change",
          "Competition",
          "Financial",
          "Financial",
          "Competition",
          "Service",
          "Price",
          "Price",
          "Competition",
          "Price",
          "Service",
          "Life_Change",
          "Life_Change",
          "Unknown",
          "Competition",
          "Price",
          "Competition",
          "Price",
          "Price",
          "Unknown",
          "Price",
          "Financial",
          "Price",
          "Price",
          "Service",
          "Price",
          "Price",
          "Service",
          "Financial",
          "Life_Change",
          "Service",
          "Service",
          "Price",
          "Competition",
          "Life_Change",
          "Price",
          "Price",
          "Life_Change",
          "Service",
          "Financial",
          "Competition",
          "Competition",
          "Financial",
          "Price",
          "Life_Change",
          "Financial",
          "Service",
          "Competition",
          "Price",
          "Service",
          "Price",
          "Service",
          "Financial",
          "Financial",
          "Financial",
          "Service",
          "Price",
          "Price",
          "Service",
          "Financial",
          "Competition",
          "Service",
          "Competition",
          "Competition",
          "Service",
          "Unknown",
          "Service",
          "Financial",
          "Life_Change",
          "Price",
          "Price",
          "Financial",
          "Competition",
          "Price",
          "Price",
          "Price",
          "Competition",
          "Unknown",
          "Unknown",
          "Life_Change",
          "Service",
          "Financial",
          "Unknown",
          "Life_Change",
          "Price",
          "Price",
          "Service",
          "Price",
          "Life_Change",
          "Competition",
          "Competition",
          "Unknown",
          "Unknown",
          "Service",
          "Price",
          "Price",
          "Life_Change",
          "Service",
          "Price",
          "Financial",
          "Financial",
          "Life_Change",
          "Price",
          "Financial",
          "Life_Change",
          "Life_Change",
          "Price",
          "Life_Change",
          "Life_Change",
          "Service",
          "Service",
          "Unknown",
          "Competition",
          "Price",
          "Life_Change",
          "Unknown",
          "Financial",
          "Life_Change",
          "Competition",
          "Financial",
          "Financial",
          "Competition",
          "Price",
          "Financial",
          "Service",
          "Price",
          "Price",
          "Financial",
          "Unknown",
          "Life_Change",
          "Unknown",
          "Price",
          "Life_Change",
          "Service",
          "Unknown",
          "Service",
          "Service",
          "Price",
          "Unknown",
          "Competition",
          "Service",
          "Price",
          "Competition",
          "Price",
          "Price",
          "Financial",
          "Price",
          "Price",
          "Competition",
          "Financial",
          "Price",
          "Price",
          "Unknown",
          "Price",
          "Financial",
          "Service",
          "Financial",
          "Life_Change",
          "Competition",
          "Life_Change",
          "Financial",
          "Financial",
          "Price",
          "Price",
          "Life_Change",
          "Financial",
          "Price",
          "Price",
          "Unknown",
          "Price",
          "Financial",
          "Life_Change",
          "Life_Change",
          "Life_Change",
          "Life_Change",
          "Price",
          "Financial",
          "Competition",
          "Unknown",
          "Financial",
          "Competition",
          "Unknown",
          "Unknown",
          "Competition",
          "Financial",
          "Financial",
          "Unknown",
          "Competition",
          "Price",
          "Price",
          "Price",
          "Financial",
          "Competition",
          "Price",
          "Competition",
          "Financial",
          "Service",
          "Unknown",
          "Financial",
          "Financial",
          "Financial",
          "Financial",
          "Price",
          "Price",
          "Financial",
          "Life_Change",
          "Financial",
          "Unknown",
          "Competition",
          "Price",
          "Financial",
          "Financial",
          "Price",
          "Price",
          "Unknown",
          "Competition",
          "Competition",
          "Financial",
          "Life_Change",
          "Service",
          "Life_Change",
          "Price",
          "Unknown",
          "Life_Change",
          "Price",
          "Price",
          "Price",
          "Competition",
          "Competition",
          "Price",
          "Financial",
          "Price",
          "Service",
          "Price",
          "Financial",
          "Competition",
          "Price",
          "Price",
          "Service",
          "Unknown",
          "Competition",
          "Unknown",
          "Life_Change",
          "Financial",
          "Service",
          "Service",
          "Financial",
          "Financial",
          "Financial",
          "Service",
          "Competition",
          "Financial",
          "Service",
          "Financial",
          "Life_Change",
          "Competition",
          "Life_Change",
          "Financial",
          "Financial",
          "Life_Change",
          "Price",
          "Unknown",
          "Financial",
          "Service",
          "Service",
          "Price",
          "Service",
          "Financial",
          "Competition",
          "Service",
          "Competition",
          "Competition",
          "Financial",
          "Price",
          "Financial",
          "Price",
          "Price",
          "Price",
          "Price",
          "Financial",
          "Life_Change",
          "Unknown",
          "Service",
          "Financial",
          "Unknown",
          "Financial",
          "Financial",
          "Price",
          "Service",
          "Price",
          "Unknown",
          "Financial",
          "Service",
          "Competition",
          "Service",
          "Life_Change",
          "Competition",
          "Price",
          "Financial",
          "Life_Change",
          "Unknown",
          "Service",
          "Service",
          "Financial",
          "Price",
          "Service",
          "Life_Change",
          "Life_Change",
          "Service",
          "Unknown",
          "Service",
          "Price",
          "Price",
          "Life_Change",
          "Unknown",
          "Competition",
          "Competition",
          "Life_Change",
          "Price",
          "Financial",
          "Unknown",
          "Service",
          "Unknown",
          "Competition",
          "Competition",
          "Price",
          "Price",
          "Price",
          "Unknown",
          "Life_Change",
          "Financial",
          "Financial",
          "Price",
          "Service",
          "Price",
          "Service",
          "Price",
          "Service",
          "Competition",
          "Competition",
          "Financial",
          "Competition",
          "Financial",
          "Unknown",
          "Service",
          "Competition",
          "Price",
          "Financial",
          "Service",
          "Service",
          "Service",
          "Service",
          "Financial",
          "Life_Change",
          "Financial",
          "Price",
          "Price",
          "Service",
          "Price",
          "Life_Change",
          "Unknown",
          "Life_Change",
          "Service",
          "Price",
          "Competition",
          "Competition",
          "Price",
          "Life_Change",
          "Life_Change",
          "Competition",
          "Competition",
          "Competition",
          "Financial",
          "Competition",
          "Competition",
          "Financial",
          "Competition",
          "Service",
          "Competition",
          "Price",
          "Life_Change",
          "Life_Change",
          "Financial",
          "Financial",
          "Service",
          "Price",
          "Price",
          "Competition",
          "Price",
          "Financial",
          "Service",
          "Price",
          "Financial",
          "Service",
          "Life_Change",
          "Competition",
          "Financial",
          "Financial",
          "Financial",
          "Life_Change",
          "Unknown",
          "Life_Change",
          "Life_Change",
          "Life_Change",
          "Financial",
          "Life_Change",
          "Price",
          "Life_Change",
          "Financial",
          "Service",
          "Financial",
          "Competition",
          "Competition",
          "Competition",
          "Price",
          "Competition",
          "Competition",
          "Price",
          "Price",
          "Unknown",
          "Competition",
          "Competition",
          "Service",
          "Service",
          "Price",
          "Competition",
          "Financial",
          "Unknown",
          "Competition",
          "Financial",
          "Life_Change",
          "Competition",
          "Competition",
          "Competition",
          "Price",
          "Price",
          "Competition",
          "Unknown",
          "Unknown",
          "Unknown",
          "Life_Change",
          "Service",
          "Competition",
          "Competition",
          "Financial",
          "Competition",
          "Price",
          "Price",
          "Unknown",
          "Life_Change",
          "Life_Change",
          "Financial",
          "Financial",
          "Competition",
          "Service",
          "Service",
          "Price",
          "Financial",
          "Price",
          "Price",
          "Unknown",
          "Financial",
          "Competition",
          "Price",
          "Price",
          "Price",
          "Service",
          "Life_Change",
          "Life_Change",
          "Competition",
          "Life_Change",
          "Price",
          "Price",
          "Life_Change",
          "Unknown",
          "Competition",
          "Price",
          "Price",
          "Price",
          "Financial",
          "Price",
          "Price",
          "Service",
          "Service",
          "Service",
          "Price",
          "Unknown",
          "Financial",
          "Life_Change",
          "Price",
          "Life_Change",
          "Competition",
          "Unknown",
          "Price",
          "Competition",
          "Price",
          "Service",
          "Competition",
          "Unknown",
          "Price",
          "Financial",
          "Price",
          "Price",
          "Competition",
          "Price",
          "Competition",
          "Price",
          "Price",
          "Financial",
          "Price",
          "Financial",
          "Service",
          "Service",
          "Life_Change",
          "Competition",
          "Life_Change",
          "Financial",
          "Price",
          "Life_Change",
          "Life_Change",
          "Financial",
          "Price",
          "Life_Change",
          "Price",
          "Service",
          "Service",
          "Service",
          "Unknown",
          "Life_Change",
          "Financial",
          "Unknown",
          "Price",
          "Price",
          "Service",
          "Unknown",
          "Unknown",
          "Price",
          "Unknown",
          "Competition",
          "Service",
          "Life_Change",
          "Life_Change",
          "Price",
          "Price",
          "Competition",
          "Competition",
          "Service",
          "Service",
          "Price",
          "Financial",
          "Price",
          "Competition",
          "Price",
          "Life_Change",
          "Price",
          "Competition",
          "Life_Change",
          "Competition",
          "Unknown",
          "Service",
          "Price",
          "Service",
          "Financial",
          "Unknown",
          "Service",
          "Competition",
          "Price",
          "Service",
          "Price",
          "Financial",
          "Unknown",
          "Unknown",
          "Financial",
          "Life_Change",
          "Financial",
          "Financial",
          "Life_Change",
          "Price",
          "Life_Change",
          "Life_Change",
          "Price",
          "Financial",
          "Life_Change",
          "Financial",
          "Competition",
          "Price",
          "Financial",
          "Financial",
          "Price",
          "Service",
          "Competition",
          "Price",
          "Competition",
          "Price",
          "Price",
          "Competition",
          "Unknown",
          "Service",
          "Competition",
          "Competition",
          "Price",
          "Unknown",
          "Financial",
          "Service",
          "Price",
          "Financial",
          "Unknown",
          "Financial",
          "Price",
          "Service",
          "Unknown",
          "Financial",
          "Unknown",
          "Financial",
          "Competition",
          "Price",
          "Unknown",
          "Price",
          "Life_Change",
          "Competition",
          "Competition",
          "Service",
          "Price",
          "Competition",
          "Unknown",
          "Service",
          "Life_Change",
          "Price",
          "Price",
          "Price",
          "Service",
          "Competition",
          "Financial",
          "Financial",
          "Financial",
          "Price",
          "Service",
          "Financial",
          "Financial",
          "Life_Change",
          "Financial",
          "Life_Change",
          "Price",
          "Price",
          "Service",
          "Service",
          "Competition",
          "Price",
          "Price",
          "Competition",
          "Unknown",
          "Unknown",
          "Unknown",
          "Price",
          "Life_Change",
          "Service",
          "Life_Change",
          "Price",
          "Life_Change",
          "Competition",
          "Price",
          "Unknown",
          "Life_Change",
          "Competition",
          "Service",
          "Financial",
          "Price",
          "Competition",
          "Unknown",
          "Price",
          "Financial",
          "Life_Change",
          "Price",
          "Service",
          "Unknown",
          "Life_Change",
          "Price",
          "Financial",
          "Financial",
          "Competition",
          "Price",
          "Price",
          "Life_Change",
          "Price",
          "Financial",
          "Competition",
          "Financial",
          "Unknown",
          "Financial",
          "Price",
          "Life_Change",
          "Life_Change",
          "Price",
          "Life_Change",
          "Service",
          "Financial",
          "Unknown",
          "Price",
          "Price",
          "Competition",
          "Price",
          "Price",
          "Competition",
          "Life_Change",
          "Financial",
          "Price",
          "Price",
          "Life_Change",
          "Unknown",
          "Life_Change",
          "Price",
          "Service",
          "Financial",
          "Price",
          "Service",
          "Competition",
          "Life_Change",
          "Price",
          "Service",
          "Financial",
          "Price",
          "Life_Change",
          "Service",
          "Price",
          "Life_Change",
          "Competition",
          "Financial",
          "Price",
          "Price",
          "Price",
          "Price",
          "Life_Change",
          "Unknown",
          "Financial",
          "Price",
          "Service",
          "Price",
          "Price",
          "Price",
          "Unknown",
          "Competition",
          "Competition",
          "Price",
          "Financial",
          "Financial",
          "Life_Change",
          "Life_Change",
          "Financial",
          "Competition",
          "Price",
          "Service",
          "Price",
          "Competition",
          "Life_Change",
          "Competition",
          "Competition",
          "Financial",
          "Financial",
          "Price",
          "Price",
          "Price",
          "Service",
          "Financial",
          "Competition",
          "Price",
          "Financial",
          "Service",
          "Price",
          "Service",
          "Service",
          "Life_Change",
          "Service",
          "Financial",
          "Competition",
          "Unknown",
          "Price",
          "Life_Change",
          "Price",
          "Life_Change",
          "Price",
          "Competition",
          "Competition",
          "Financial",
          "Service",
          "Price",
          "Price",
          "Life_Change",
          "Price",
          "Financial",
          "Price",
          "Financial",
          "Price",
          "Competition",
          "Price",
          "Service",
          "Life_Change",
          "Competition",
          "Competition",
          "Competition",
          "Life_Change",
          "Life_Change",
          "Competition",
          "Price",
          "Price",
          "Financial",
          "Service",
          "Financial",
          "Competition",
          "Service",
          "Life_Change",
          "Financial",
          "Service",
          "Financial",
          "Financial",
          "Life_Change",
          "Price",
          "Financial",
          "Life_Change",
          "Competition",
          "Financial",
          "Life_Change",
          "Life_Change",
          "Price",
          "Financial",
          "Competition",
          "Competition",
          "Service",
          "Financial",
          "Financial",
          "Financial",
          "Competition",
          "Financial",
          "Life_Change",
          "Financial",
          "Price",
          "Life_Change",
          "Competition",
          "Price",
          "Service",
          "Price",
          "Financial",
          "Financial",
          "Price",
          "Price",
          "Price",
          "Competition",
          "Service",
          "Financial",
          "Price",
          "Life_Change",
          "Competition",
          "Unknown",
          "Life_Change",
          "Price",
          "Competition",
          "Service",
          "Financial",
          "Competition",
          "Life_Change",
          "Financial",
          "Service",
          "Unknown",
          "Service",
          "Service",
          "Service",
          "Life_Change",
          "Competition",
          "Price",
          "Price",
          "Price",
          "Financial",
          "Financial",
          "Service",
          "Service",
          "Competition",
          "Financial",
          "Financial",
          "Financial",
          "Life_Change",
          "Financial",
          "Unknown",
          "Financial",
          "Service",
          "Unknown",
          "Price",
          "Life_Change",
          "Price",
          "Competition",
          "Life_Change",
          "Price",
          "Unknown",
          "Financial",
          "Financial",
          "Service",
          "Service",
          "Financial",
          "Price",
          "Financial",
          "Financial",
          "Price",
          "Competition",
          "Financial",
          "Price",
          "Life_Change",
          "Financial",
          "Financial",
          "Service",
          "Life_Change",
          "Price",
          "Competition",
          "Competition",
          "Financial",
          "Unknown",
          "Financial",
          "Financial",
          "Life_Change",
          "Competition",
          "Life_Change",
          "Price",
          "Life_Change",
          "Price",
          "Competition",
          "Unknown",
          "Competition",
          "Service",
          "Financial",
          "Unknown",
          "Financial",
          "Life_Change",
          "Price",
          "Life_Change",
          "Price",
          "Unknown",
          "Price",
          "Service",
          "Competition",
          "Competition"
         ],
         "x0": " ",
         "xaxis": "x",
         "y": {
          "bdata": "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",
          "dtype": "i1"
         },
         "y0": " ",
         "yaxis": "y"
        }
       ],
       "layout": {
        "boxmode": "group",
        "legend": {
         "tracegroupgap": 0
        },
        "margin": {
         "t": 60
        },
        "template": {
         "data": {
          "bar": [
           {
            "error_x": {
             "color": "#2a3f5f"
            },
            "error_y": {
             "color": "#2a3f5f"
            },
            "marker": {
             "line": {
              "color": "#E5ECF6",
              "width": 0.5
             },
             "pattern": {
              "fillmode": "overlay",
              "size": 10,
              "solidity": 0.2
             }
            },
            "type": "bar"
           }
          ],
          "barpolar": [
           {
            "marker": {
             "line": {
              "color": "#E5ECF6",
              "width": 0.5
             },
             "pattern": {
              "fillmode": "overlay",
              "size": 10,
              "solidity": 0.2
             }
            },
            "type": "barpolar"
           }
          ],
          "carpet": [
           {
            "aaxis": {
             "endlinecolor": "#2a3f5f",
             "gridcolor": "white",
             "linecolor": "white",
             "minorgridcolor": "white",
             "startlinecolor": "#2a3f5f"
            },
            "baxis": {
             "endlinecolor": "#2a3f5f",
             "gridcolor": "white",
             "linecolor": "white",
             "minorgridcolor": "white",
             "startlinecolor": "#2a3f5f"
            },
            "type": "carpet"
           }
          ],
          "choropleth": [
           {
            "colorbar": {
             "outlinewidth": 0,
             "ticks": ""
            },
            "type": "choropleth"
           }
          ],
          "contour": [
           {
            "colorbar": {
             "outlinewidth": 0,
             "ticks": ""
            },
            "colorscale": [
             [
              0,
              "#0d0887"
             ],
             [
              0.1111111111111111,
              "#46039f"
             ],
             [
              0.2222222222222222,
              "#7201a8"
             ],
             [
              0.3333333333333333,
              "#9c179e"
             ],
             [
              0.4444444444444444,
              "#bd3786"
             ],
             [
              0.5555555555555556,
              "#d8576b"
             ],
             [
              0.6666666666666666,
              "#ed7953"
             ],
             [
              0.7777777777777778,
              "#fb9f3a"
             ],
             [
              0.8888888888888888,
              "#fdca26"
             ],
             [
              1,
              "#f0f921"
             ]
            ],
            "type": "contour"
           }
          ],
          "contourcarpet": [
           {
            "colorbar": {
             "outlinewidth": 0,
             "ticks": ""
            },
            "type": "contourcarpet"
           }
          ],
          "heatmap": [
           {
            "colorbar": {
             "outlinewidth": 0,
             "ticks": ""
            },
            "colorscale": [
             [
              0,
              "#0d0887"
             ],
             [
              0.1111111111111111,
              "#46039f"
             ],
             [
              0.2222222222222222,
              "#7201a8"
             ],
             [
              0.3333333333333333,
              "#9c179e"
             ],
             [
              0.4444444444444444,
              "#bd3786"
             ],
             [
              0.5555555555555556,
              "#d8576b"
             ],
             [
              0.6666666666666666,
              "#ed7953"
             ],
             [
              0.7777777777777778,
              "#fb9f3a"
             ],
             [
              0.8888888888888888,
              "#fdca26"
             ],
             [
              1,
              "#f0f921"
             ]
            ],
            "type": "heatmap"
           }
          ],
          "histogram": [
           {
            "marker": {
             "pattern": {
              "fillmode": "overlay",
              "size": 10,
              "solidity": 0.2
             }
            },
            "type": "histogram"
           }
          ],
          "histogram2d": [
           {
            "colorbar": {
             "outlinewidth": 0,
             "ticks": ""
            },
            "colorscale": [
             [
              0,
              "#0d0887"
             ],
             [
              0.1111111111111111,
              "#46039f"
             ],
             [
              0.2222222222222222,
              "#7201a8"
             ],
             [
              0.3333333333333333,
              "#9c179e"
             ],
             [
              0.4444444444444444,
              "#bd3786"
             ],
             [
              0.5555555555555556,
              "#d8576b"
             ],
             [
              0.6666666666666666,
              "#ed7953"
             ],
             [
              0.7777777777777778,
              "#fb9f3a"
             ],
             [
              0.8888888888888888,
              "#fdca26"
             ],
             [
              1,
              "#f0f921"
             ]
            ],
            "type": "histogram2d"
           }
          ],
          "histogram2dcontour": [
           {
            "colorbar": {
             "outlinewidth": 0,
             "ticks": ""
            },
            "colorscale": [
             [
              0,
              "#0d0887"
             ],
             [
              0.1111111111111111,
              "#46039f"
             ],
             [
              0.2222222222222222,
              "#7201a8"
             ],
             [
              0.3333333333333333,
              "#9c179e"
             ],
             [
              0.4444444444444444,
              "#bd3786"
             ],
             [
              0.5555555555555556,
              "#d8576b"
             ],
             [
              0.6666666666666666,
              "#ed7953"
             ],
             [
              0.7777777777777778,
              "#fb9f3a"
             ],
             [
              0.8888888888888888,
              "#fdca26"
             ],
             [
              1,
              "#f0f921"
             ]
            ],
            "type": "histogram2dcontour"
           }
          ],
          "mesh3d": [
           {
            "colorbar": {
             "outlinewidth": 0,
             "ticks": ""
            },
            "type": "mesh3d"
           }
          ],
          "parcoords": [
           {
            "line": {
             "colorbar": {
              "outlinewidth": 0,
              "ticks": ""
             }
            },
            "type": "parcoords"
           }
          ],
          "pie": [
           {
            "automargin": true,
            "type": "pie"
           }
          ],
          "scatter": [
           {
            "fillpattern": {
             "fillmode": "overlay",
             "size": 10,
             "solidity": 0.2
            },
            "type": "scatter"
           }
          ],
          "scatter3d": [
           {
            "line": {
             "colorbar": {
              "outlinewidth": 0,
              "ticks": ""
             }
            },
            "marker": {
             "colorbar": {
              "outlinewidth": 0,
              "ticks": ""
             }
            },
            "type": "scatter3d"
           }
          ],
          "scattercarpet": [
           {
            "marker": {
             "colorbar": {
              "outlinewidth": 0,
              "ticks": ""
             }
            },
            "type": "scattercarpet"
           }
          ],
          "scattergeo": [
           {
            "marker": {
             "colorbar": {
              "outlinewidth": 0,
              "ticks": ""
             }
            },
            "type": "scattergeo"
           }
          ],
          "scattergl": [
           {
            "marker": {
             "colorbar": {
              "outlinewidth": 0,
              "ticks": ""
             }
            },
            "type": "scattergl"
           }
          ],
          "scattermap": [
           {
            "marker": {
             "colorbar": {
              "outlinewidth": 0,
              "ticks": ""
             }
            },
            "type": "scattermap"
           }
          ],
          "scattermapbox": [
           {
            "marker": {
             "colorbar": {
              "outlinewidth": 0,
              "ticks": ""
             }
            },
            "type": "scattermapbox"
           }
          ],
          "scatterpolar": [
           {
            "marker": {
             "colorbar": {
              "outlinewidth": 0,
              "ticks": ""
             }
            },
            "type": "scatterpolar"
           }
          ],
          "scatterpolargl": [
           {
            "marker": {
             "colorbar": {
              "outlinewidth": 0,
              "ticks": ""
             }
            },
            "type": "scatterpolargl"
           }
          ],
          "scatterternary": [
           {
            "marker": {
             "colorbar": {
              "outlinewidth": 0,
              "ticks": ""
             }
            },
            "type": "scatterternary"
           }
          ],
          "surface": [
           {
            "colorbar": {
             "outlinewidth": 0,
             "ticks": ""
            },
            "colorscale": [
             [
              0,
              "#0d0887"
             ],
             [
              0.1111111111111111,
              "#46039f"
             ],
             [
              0.2222222222222222,
              "#7201a8"
             ],
             [
              0.3333333333333333,
              "#9c179e"
             ],
             [
              0.4444444444444444,
              "#bd3786"
             ],
             [
              0.5555555555555556,
              "#d8576b"
             ],
             [
              0.6666666666666666,
              "#ed7953"
             ],
             [
              0.7777777777777778,
              "#fb9f3a"
             ],
             [
              0.8888888888888888,
              "#fdca26"
             ],
             [
              1,
              "#f0f921"
             ]
            ],
            "type": "surface"
           }
          ],
          "table": [
           {
            "cells": {
             "fill": {
              "color": "#EBF0F8"
             },
             "line": {
              "color": "white"
             }
            },
            "header": {
             "fill": {
              "color": "#C8D4E3"
             },
             "line": {
              "color": "white"
             }
            },
            "type": "table"
           }
          ]
         },
         "layout": {
          "annotationdefaults": {
           "arrowcolor": "#2a3f5f",
           "arrowhead": 0,
           "arrowwidth": 1
          },
          "autotypenumbers": "strict",
          "coloraxis": {
           "colorbar": {
            "outlinewidth": 0,
            "ticks": ""
           }
          },
          "colorscale": {
           "diverging": [
            [
             0,
             "#8e0152"
            ],
            [
             0.1,
             "#c51b7d"
            ],
            [
             0.2,
             "#de77ae"
            ],
            [
             0.3,
             "#f1b6da"
            ],
            [
             0.4,
             "#fde0ef"
            ],
            [
             0.5,
             "#f7f7f7"
            ],
            [
             0.6,
             "#e6f5d0"
            ],
            [
             0.7,
             "#b8e186"
            ],
            [
             0.8,
             "#7fbc41"
            ],
            [
             0.9,
             "#4d9221"
            ],
            [
             1,
             "#276419"
            ]
           ],
           "sequential": [
            [
             0,
             "#0d0887"
            ],
            [
             0.1111111111111111,
             "#46039f"
            ],
            [
             0.2222222222222222,
             "#7201a8"
            ],
            [
             0.3333333333333333,
             "#9c179e"
            ],
            [
             0.4444444444444444,
             "#bd3786"
            ],
            [
             0.5555555555555556,
             "#d8576b"
            ],
            [
             0.6666666666666666,
             "#ed7953"
            ],
            [
             0.7777777777777778,
             "#fb9f3a"
            ],
            [
             0.8888888888888888,
             "#fdca26"
            ],
            [
             1,
             "#f0f921"
            ]
           ],
           "sequentialminus": [
            [
             0,
             "#0d0887"
            ],
            [
             0.1111111111111111,
             "#46039f"
            ],
            [
             0.2222222222222222,
             "#7201a8"
            ],
            [
             0.3333333333333333,
             "#9c179e"
            ],
            [
             0.4444444444444444,
             "#bd3786"
            ],
            [
             0.5555555555555556,
             "#d8576b"
            ],
            [
             0.6666666666666666,
             "#ed7953"
            ],
            [
             0.7777777777777778,
             "#fb9f3a"
            ],
            [
             0.8888888888888888,
             "#fdca26"
            ],
            [
             1,
             "#f0f921"
            ]
           ]
          },
          "colorway": [
           "#636efa",
           "#EF553B",
           "#00cc96",
           "#ab63fa",
           "#FFA15A",
           "#19d3f3",
           "#FF6692",
           "#B6E880",
           "#FF97FF",
           "#FECB52"
          ],
          "font": {
           "color": "#2a3f5f"
          },
          "geo": {
           "bgcolor": "white",
           "lakecolor": "white",
           "landcolor": "#E5ECF6",
           "showlakes": true,
           "showland": true,
           "subunitcolor": "white"
          },
          "hoverlabel": {
           "align": "left"
          },
          "hovermode": "closest",
          "mapbox": {
           "style": "light"
          },
          "paper_bgcolor": "white",
          "plot_bgcolor": "#E5ECF6",
          "polar": {
           "angularaxis": {
            "gridcolor": "white",
            "linecolor": "white",
            "ticks": ""
           },
           "bgcolor": "#E5ECF6",
           "radialaxis": {
            "gridcolor": "white",
            "linecolor": "white",
            "ticks": ""
           }
          },
          "scene": {
           "xaxis": {
            "backgroundcolor": "#E5ECF6",
            "gridcolor": "white",
            "gridwidth": 2,
            "linecolor": "white",
            "showbackground": true,
            "ticks": "",
            "zerolinecolor": "white"
           },
           "yaxis": {
            "backgroundcolor": "#E5ECF6",
            "gridcolor": "white",
            "gridwidth": 2,
            "linecolor": "white",
            "showbackground": true,
            "ticks": "",
            "zerolinecolor": "white"
           },
           "zaxis": {
            "backgroundcolor": "#E5ECF6",
            "gridcolor": "white",
            "gridwidth": 2,
            "linecolor": "white",
            "showbackground": true,
            "ticks": "",
            "zerolinecolor": "white"
           }
          },
          "shapedefaults": {
           "line": {
            "color": "#2a3f5f"
           }
          },
          "ternary": {
           "aaxis": {
            "gridcolor": "white",
            "linecolor": "white",
            "ticks": ""
           },
           "baxis": {
            "gridcolor": "white",
            "linecolor": "white",
            "ticks": ""
           },
           "bgcolor": "#E5ECF6",
           "caxis": {
            "gridcolor": "white",
            "linecolor": "white",
            "ticks": ""
           }
          },
          "title": {
           "x": 0.05
          },
          "xaxis": {
           "automargin": true,
           "gridcolor": "white",
           "linecolor": "white",
           "ticks": "",
           "title": {
            "standoff": 15
           },
           "zerolinecolor": "white",
           "zerolinewidth": 2
          },
          "yaxis": {
           "automargin": true,
           "gridcolor": "white",
           "linecolor": "white",
           "ticks": "",
           "title": {
            "standoff": 15
           },
           "zerolinecolor": "white",
           "zerolinewidth": 2
          }
         }
        },
        "xaxis": {
         "anchor": "y",
         "domain": [
          0,
          1
         ],
         "title": {
          "text": "churn_reason"
         }
        },
        "yaxis": {
         "anchor": "x",
         "domain": [
          0,
          1
         ],
         "title": {
          "text": "age"
         }
        }
       }
      },
      "image/png": "[encoded data removed]"
     },
     "metadata": {},
     "output_type": "display_data"
    },
    {
     "name": "stdout",
     "output_type": "stream",
     "text": [
      "Churn Days Analysis\n",
      "Linear Regression Results\n",
      "R-squared: 0.6437523942837184\n",
      "MSE: 852.8578566191292\n"
     ]
    },
    {
     "data": {
      "image/png": "[encoded data removed]",
      "text/plain": [
       "<Figure size 1200x600 with 1 Axes>"
      ]
     },
     "metadata": {},
     "output_type": "display_data"
    },
    {
     "name": "stdout",
     "output_type": "stream",
     "text": [
      "Lasso alpha: 1.1080435585289028\n",
      "R-squared: 0.7655972290453008\n",
      "MSE: 561.1609498962389\n"
     ]
    },
    {
     "data": {
      "image/png": "[encoded data removed]",
      "text/plain": [
       "<Figure size 1200x600 with 1 Axes>"
      ]
     },
     "metadata": {},
     "output_type": "display_data"
    },
    {
     "name": "stdout",
     "output_type": "stream",
     "text": [
      "Ridge alpha: 3.5564803062231287\n",
      "R-squared: 0.6474590100654383\n",
      "MSE: 843.9842071119214\n"
     ]
    },
    {
     "data": {
      "image/png": "[encoded data removed]",
      "text/plain": [
       "<Figure size 1200x600 with 1 Axes>"
      ]
     },
     "metadata": {},
     "output_type": "display_data"
    },
    {
     "name": "stdout",
     "output_type": "stream",
     "text": [
      "XGB R-squared: -1.2531754970550537\n",
      "XGB MSE: 5394.109375\n"
     ]
    },
    {
     "data": {
      "image/png": "[encoded data removed]",
      "text/plain": [
       "<Figure size 1200x600 with 1 Axes>"
      ]
     },
     "metadata": {},
     "output_type": "display_data"
    },
    {
     "name": "stdout",
     "output_type": "stream",
     "text": [
      "RF R-squared: -6.06067585604191\n",
      "RF MSE: 16903.279573651675\n"
     ]
    },
    {
     "data": {
      "image/png": "[encoded data removed]",
      "text/plain": [
       "<Figure size 1200x600 with 1 Axes>"
      ]
     },
     "metadata": {},
     "output_type": "display_data"
    },
    {
     "name": "stdout",
     "output_type": "stream",
     "text": [
      "DT R-squared: -1.6784198766048881\n",
      "DT MSE: 6412.1453686528375\n"
     ]
    },
    {
     "data": {
      "image/png": "[encoded data removed]",
      "text/plain": [
       "<Figure size 1200x600 with 1 Axes>"
      ]
     },
     "metadata": {},
     "output_type": "display_data"
    },
    {
     "name": "stdout",
     "output_type": "stream",
     "text": [
      "EBM R-squared: 0.42228117586859726\n",
      "EBM MSE: 1383.060630222541\n"
     ]
    },
    {
     "data": {
      "image/png": "[encoded data removed]",
      "text/plain": [
       "<Figure size 1200x600 with 1 Axes>"
      ]
     },
     "metadata": {},
     "output_type": "display_data"
    }
   ],
   "source": [
    "# Read Data\n",
    "churned_customers = pd.read_excel('merged_data.xlsx', sheet_name='Churned Customers')\n",
    "merged_df = pd.read_excel('merged_data.xlsx')\n",
    "\n",
    "# Fix the Time\n",
    "merged_df['policy_start_date'] = pd.to_datetime(merged_df['policy_start_date'], errors='coerce')\n",
    "\n",
    "### CLEAN policy_start_date\n",
    "merged_df = merged_df[merged_df['policy_start_date'].notna()]                    \n",
    "merged_df = merged_df[merged_df['policy_start_date'].dt.year >= 2000]            \n",
    "\n",
    "merged_df['policy_month'] = merged_df['policy_start_date'].dt.to_period('M')\n",
    "monthly_starts_df = merged_df.groupby('policy_month').agg(\n",
    "    policy_start_count=('customer_id', 'count'),\n",
    "    monthly_churn_count=('churned', 'sum')\n",
    ").reset_index()\n",
    "monthly_starts_df['policy_month'] = monthly_starts_df['policy_month'].dt.to_timestamp()\n",
    "\n",
    "# Churn_date\n",
    "churned_customers['churn_date'] = pd.to_datetime(churned_customers['churn_date'], errors='coerce')\n",
    "\n",
    "### CLEAN churn_date\n",
    "churned_customers = churned_customers[churned_customers['churn_date'].notna()]   \n",
    "churned_customers = churned_customers[churned_customers['churn_date'].dt.year >= 2000]  \n",
    "\n",
    "churned_customers['churn_month'] = churned_customers['churn_date'].dt.to_period('M')\n",
    "monthly_churn_df = churned_customers.groupby('churn_month').agg(churn_count=('customer_id', 'count')).reset_index()\n",
    "monthly_churn_df['churn_month'] = monthly_churn_df['churn_month'].dt.to_timestamp()\n",
    "\n",
    "print(\"Monthly Churn Customer Count\")\n",
    "print(monthly_churn_df)\n",
    "px.line(monthly_churn_df, x=\"churn_month\", y=\"churn_count\").show()\n",
    "\n",
    "churn_reason_counts = churned_customers['churn_reason'].value_counts(normalize=True)\n",
    "print(\"Churn Reason Distribution\")\n",
    "px.bar(churn_reason_counts, x=churn_reason_counts.index, y=churn_reason_counts.values).show()\n",
    "\n",
    "print(monthly_starts_df)\n",
    "\n",
    "print(\"Churn Reason VS Key Features\")\n",
    "selected_features = [\n",
    "    'age', 'gender', 'marital_status', 'dependents', 'income_bracket', 'employment_status',\n",
    "    'education_level', 'login_frequency_30d', 'mobile_app_user', 'email_opens_6m',\n",
    "    'customer_service_calls_12m', 'complaints_filed', 'policy_type', 'premium_amount',\n",
    "    'premium_frequency', 'payment_method', 'riders', 'days_between_policy_last_login',\n",
    "    'days_between_policy_churn', 'policy_tenure'\n",
    "]\n",
    "\n",
    "selected_col = selected_features[0]\n",
    "\n",
    "try:\n",
    "    print(f\"**Churn Reason vs {selected_col}**\")\n",
    "    if churned_customers[selected_col].dtype in ['object', 'bool']:\n",
    "        sorted_categories = sorted(churned_customers[selected_col].dropna().unique())\n",
    "        fig = px.histogram(\n",
    "            churned_customers,\n",
    "            x=selected_col,\n",
    "            color='churn_reason',\n",
    "            barmode='group',\n",
    "            category_orders={selected_col: sorted_categories}\n",
    "        )\n",
    "        fig.show()\n",
    "\n",
    "        ratio_df = churned_customers.groupby([selected_col, 'churn_reason']).size().reset_index(name='count')\n",
    "        total_per_group = churned_customers.groupby([selected_col]).size().reset_index(name='total')\n",
    "        merged_ratio = pd.merge(ratio_df, total_per_group, on=selected_col)\n",
    "        merged_ratio['percentage'] = merged_ratio['count'] / merged_ratio['total']\n",
    "        sorted_categories = merged_ratio[selected_col].drop_duplicates().sort_values()\n",
    "        fig_pct = px.bar(\n",
    "            merged_ratio,\n",
    "            x=selected_col,\n",
    "            y='percentage',\n",
    "            color='churn_reason',\n",
    "            category_orders={selected_col: sorted_categories.tolist()},\n",
    "            barmode='stack',\n",
    "            title=f\"Normalized % Churn Reason by {selected_col}\"\n",
    "        )\n",
    "        fig_pct.show()\n",
    "    else:\n",
    "        fig = px.box(churned_customers, x='churn_reason', y=selected_col, points='all')\n",
    "        fig.show()\n",
    "except Exception as e:\n",
    "    print(f\"Error plotting {selected_col}: {e}\")\n",
    "\n",
    "# Churn Days Analysis\n",
    "print(\"Churn Days Analysis\")\n",
    "\n",
    "num_vars = [\n",
    "    'age', 'dependents', 'login_frequency_30d', 'email_opens_6m', 'customer_service_calls_12m',\n",
    "    'complaints_filed', 'policy_amount', 'premium_amount', 'riders', 'days_between_policy_last_login',\n",
    "    'engagement_score'\n",
    "]\n",
    "cat_vars = [\n",
    "    'gender', 'marital_status', 'income_bracket', 'employment_status', 'education_level',\n",
    "    'mobile_app_user', 'policy_type', 'premium_frequency', 'payment_method', 'churn_behavior'\n",
    "]\n",
    "\n",
    "for col in num_vars:\n",
    "    churned_customers[col] = pd.to_numeric(churned_customers[col], errors='coerce')\n",
    "for col in cat_vars:\n",
    "    churned_customers[col] = churned_customers[col].astype(str)\n",
    "\n",
    "reg_df = churned_customers.copy()\n",
    "reg_df = pd.get_dummies(reg_df, columns=cat_vars, drop_first=True)\n",
    "for col in num_vars:\n",
    "    reg_df[col] = pd.to_numeric(reg_df[col], errors='coerce')\n",
    "y = pd.to_numeric(reg_df['days_between_policy_churn'], errors='coerce')\n",
    "\n",
    "# Check \n",
    "if 'policy_start_date' in reg_df.columns:\n",
    "    reg_df['policy_start_date'] = pd.to_datetime(reg_df['policy_start_date'], errors='coerce')\n",
    "    reg_df = reg_df.sort_values('policy_start_date')\n",
    "\n",
    "x = reg_df.drop(columns=[\n",
    "    'customer_id', 'churned', 'churn_date', 'policy_start_date', 'churn_reason',\n",
    "    'days_between_policy_churn', 'last_login_date', 'churn_month'\n",
    "], errors='ignore')\n",
    "\n",
    "y = pd.to_numeric(reg_df['days_between_policy_churn'], errors='coerce')\n",
    "n = len(x)\n",
    "train_end = int(n * 0.8)\n",
    "x_train, y_train = x.iloc[:train_end], y.iloc[:train_end]\n",
    "x_test, y_test = x.iloc[train_end:], y.iloc[train_end:]\n",
    "\n",
    "x_train, y_train = x_train.fillna(0), y_train.fillna(0)\n",
    "x_test, y_test = x_test.fillna(0), y_test.fillna(0)\n",
    "\n",
    "# Linear Regression\n",
    "lin_reg = LinearRegression()\n",
    "lin_reg.fit(x_train, y_train)\n",
    "y_pred = lin_reg.predict(x_test)\n",
    "\n",
    "print(\"Linear Regression Results\")\n",
    "print(\"R-squared:\", r2_score(y_test, y_pred))\n",
    "print(\"MSE:\", mean_squared_error(y_test, y_pred))\n",
    "plt.figure(figsize=(12, 6))\n",
    "plt.hist(y_test, bins=20, alpha=0.6, label='Actual')\n",
    "plt.hist(y_pred, bins=20, alpha=0.6, label='Predicted')\n",
    "plt.title(\"Linear Regression: Actual vs Predicted Days to Churn\")\n",
    "plt.xlabel(\"Days to Churn\")\n",
    "plt.ylabel(\"Frequency\")\n",
    "plt.legend()\n",
    "plt.show()\n",
    "\n",
    "# Lasso Regression\n",
    "scaler = StandardScaler()\n",
    "x_train_scaler = scaler.fit_transform(x_train)\n",
    "x_test_scaler = scaler.transform(x_test)\n",
    "lasso = LassoCV(cv=5, alphas=100, max_iter=10000)\n",
    "lasso.fit(x_train_scaler, y_train)\n",
    "y_lasso_pred = lasso.predict(x_test_scaler)\n",
    "print(\"Lasso alpha:\", float(lasso.alpha_))\n",
    "print(\"R-squared:\", r2_score(y_test, y_lasso_pred))\n",
    "print(\"MSE:\", mean_squared_error(y_test, y_lasso_pred))\n",
    "plt.figure()\n",
    "plt.hist(y_test, bins=20, alpha=0.6, label='Actual')\n",
    "plt.hist(y_lasso_pred, bins=20, alpha=0.6, label='Predicted')\n",
    "plt.title(\"Lasso Regression: Actual vs Predicted Days to Churn\")\n",
    "plt.xlabel(\"Days to Churn\")\n",
    "plt.ylabel(\"Frequency\")\n",
    "\n",
    "plt.legend()\n",
    "plt.show()\n",
    "\n",
    "# Ridge Regression\n",
    "ridge = RidgeCV(alphas=np.logspace(-3, 3, 50))\n",
    "ridge.fit(x_train_scaler, y_train)\n",
    "y_ridge_pred = ridge.predict(x_test_scaler)\n",
    "print(\"Ridge alpha:\", float(ridge.alpha_))\n",
    "print(\"R-squared:\", r2_score(y_test, y_ridge_pred))\n",
    "print(\"MSE:\", mean_squared_error(y_test, y_ridge_pred))\n",
    "plt.figure()\n",
    "plt.hist(y_test, bins=20, alpha=0.6, label='Actual')\n",
    "plt.hist(y_ridge_pred, bins=20, alpha=0.6, label='Predicted')\n",
    "plt.title(\"Ridge Regression: Actual vs Predicted Days to Churn\")\n",
    "plt.xlabel(\"Days to Churn\")\n",
    "plt.ylabel(\"Frequency\")\n",
    "plt.legend()\n",
    "plt.show()\n",
    "\n",
    "# XGBoost\n",
    "xgb_reg = xgb.XGBRegressor(\n",
    "    n_estimators=1000, max_depth=5, learning_rate=0.01,\n",
    "    subsample=0.8, colsample_bytree=0.8, objective='reg:squarederror', n_jobs=-1\n",
    ")\n",
    "xgb_reg.fit(x_train, y_train, eval_set=[(x_test, y_test)], verbose=False)\n",
    "y_xgb_pred = xgb_reg.predict(x_test)\n",
    "print(\"XGB R-squared:\", r2_score(y_test, y_xgb_pred))\n",
    "print(\"XGB MSE:\", mean_squared_error(y_test, y_xgb_pred))\n",
    "plt.figure()\n",
    "plt.hist(y_test, bins=20, alpha=0.6, label='Actual')\n",
    "plt.hist(y_xgb_pred, bins=20, alpha=0.6, label='Predicted')\n",
    "plt.title(\"XGBoost: Actual vs Predicted Days to Churn\")\n",
    "plt.xlabel(\"Days to Churn\")\n",
    "plt.ylabel(\"Frequency\")\n",
    "plt.legend()\n",
    "plt.show()\n",
    "\n",
    "# Random Forest\n",
    "rf_reg = RandomForestRegressor(\n",
    "    n_estimators=1000, max_depth=10, min_samples_split=2, min_samples_leaf=1, max_features='sqrt', n_jobs=-1\n",
    ")\n",
    "rf_reg.fit(x_train, y_train)\n",
    "y_rf_pred = rf_reg.predict(x_test)\n",
    "print(\"RF R-squared:\", r2_score(y_test, y_rf_pred))\n",
    "print(\"RF MSE:\", mean_squared_error(y_test, y_rf_pred))\n",
    "plt.figure()\n",
    "plt.hist(y_test, bins=20, alpha=0.6, label='Actual')\n",
    "plt.hist(y_rf_pred, bins=20, alpha=0.6, label='Predicted')\n",
    "plt.title(\"Random Forest: Actual vs Predicted Days to Churn\")\n",
    "plt.xlabel(\"Days to Churn\")\n",
    "plt.ylabel(\"Frequency\")\n",
    "plt.legend()\n",
    "plt.show()\n",
    "\n",
    "# Decision Tree\n",
    "dt_reg = DecisionTreeRegressor(max_depth=5, min_samples_split=2, min_samples_leaf=1)\n",
    "dt_reg.fit(x_train, y_train)\n",
    "y_dt_pred = dt_reg.predict(x_test)\n",
    "print(\"DT R-squared:\", r2_score(y_test, y_dt_pred))\n",
    "print(\"DT MSE:\", mean_squared_error(y_test, y_dt_pred))\n",
    "plt.figure()\n",
    "plt.hist(y_test, bins=20, alpha=0.6, label='Actual')\n",
    "plt.hist(y_dt_pred, bins=20, alpha=0.6, label='Predicted')\n",
    "plt.title(\"Decision Tree: Actual vs Predicted Days to Churn\")\n",
    "plt.xlabel(\"Days to Churn\")\n",
    "plt.ylabel(\"Frequency\")\n",
    "plt.legend()\n",
    "plt.show()\n",
    "\n",
    "# EBM\n",
    "ebm_reg = ExplainableBoostingRegressor(interactions=5)\n",
    "ebm_reg.fit(x_train, y_train)\n",
    "y_ebm_pred = ebm_reg.predict(x_test)\n",
    "print(\"EBM R-squared:\", r2_score(y_test, y_ebm_pred))\n",
    "print(\"EBM MSE:\", mean_squared_error(y_test, y_ebm_pred))\n",
    "plt.figure()\n",
    "plt.hist(y_test, bins=20, alpha=0.6, label='Actual')\n",
    "plt.hist(y_ebm_pred, bins=20, alpha=0.6, label='Predicted')\n",
    "plt.title(\"Explainable Boosting Machine: Actual vs Predicted Days to Churn\")\n",
    "plt.xlabel(\"Days to Churn\")\n",
    "plt.ylabel(\"Frequency\")\n",
    "plt.legend()\n",
    "plt.show()"
   ]
  },
  {
   "cell_type": "code",
   "execution_count": null,
   "id": "32d2e039-46f6-4e89-a6f3-50bf4094cd14",
   "metadata": {},
   "outputs": [],
   "source": []
  }
 ],
 "metadata": {
  "kernelspec": {
   "display_name": "Python 3 (ipykernel)",
   "language": "python",
   "name": "python3"
  },
  "language_info": {
   "codemirror_mode": {
    "name": "ipython",
    "version": 3
   },
   "file_extension": ".py",
   "mimetype": "text/x-python",
   "name": "python",
   "nbconvert_exporter": "python",
   "pygments_lexer": "ipython3",
   "version": "3.13.0"
  }
 },
 "nbformat": 4,
 "nbformat_minor": 5
}
